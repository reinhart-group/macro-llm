{
 "cells": [
  {
   "cell_type": "code",
   "execution_count": 1,
   "outputs": [
    {
     "name": "stdout",
     "output_type": "stream",
     "text": [
      "generated 1048576 sequences\n",
      "choosing from 125970 sequences\n"
     ]
    }
   ],
   "source": [
    "# generate all sequences by composition\n",
    "n = 20\n",
    "allow_symmetry = True\n",
    "all_seq_by_frac = {k: set() for k in range(n+1)}\n",
    "limit = 2**n\n",
    "for i in range(limit):\n",
    "    sequence = bin(i)[2:].zfill(n)\n",
    "    mirror_sequence = sequence[::-1]\n",
    "    if sequence <= mirror_sequence or allow_symmetry:\n",
    "        all_seq_by_frac[sequence.count('1')].add(sequence)\n",
    "\n",
    "# create a master list of all possible sequences\n",
    "all_sequences = []\n",
    "for k, v in all_seq_by_frac.items():\n",
    "    all_sequences += v\n",
    "print(f'generated {len(all_sequences)} sequences')\n",
    "possible_sequences = all_seq_by_frac[8]\n",
    "print(f'choosing from {len(possible_sequences)} sequences')"
   ],
   "metadata": {
    "collapsed": false,
    "ExecuteTime": {
     "end_time": "2024-05-07T14:40:04.512213Z",
     "start_time": "2024-05-07T14:40:03.984283Z"
    }
   },
   "id": "78218b79ba204cc"
  },
  {
   "cell_type": "code",
   "execution_count": 2,
   "outputs": [],
   "source": [
    "import os\n",
    "import torch\n",
    "\n",
    "# load the model ensemble\n",
    "model_ensemble = []\n",
    "model_path = os.path.join('models', 'gru-opt-cv10-sym')\n",
    "for i in range(10):\n",
    "    model = torch.jit.load(os.path.join(model_path, f'fold-{i:02d}-scripted.pt'), map_location='cpu')\n",
    "    model.eval()\n",
    "    model_ensemble.append(model)"
   ],
   "metadata": {
    "collapsed": false,
    "ExecuteTime": {
     "end_time": "2024-05-07T14:42:01.033028Z",
     "start_time": "2024-05-07T14:41:55.159308Z"
    }
   },
   "id": "321157851da32cee"
  },
  {
   "cell_type": "code",
   "execution_count": 3,
   "id": "initial_id",
   "metadata": {
    "collapsed": true,
    "ExecuteTime": {
     "end_time": "2024-05-07T14:42:50.251929Z",
     "start_time": "2024-05-07T14:42:40.766471Z"
    }
   },
   "outputs": [],
   "source": [
    "import json\n",
    "import model_utils, message_utils\n",
    "import numpy as np\n",
    "from target_defs import archetype_predictions\n",
    "import time\n",
    "\n",
    "\n",
    "n_batch = 5\n",
    "n_iter = 10\n",
    "batch_prompt = \"Here\\n<result>\\nNote\"  # an empty/fake prompt to facilitate the message_utils\n",
    "  \n",
    "arch_morphs = list(archetype_predictions.keys())\n",
    "for morph in arch_morphs:\n",
    "\n",
    "    target = archetype_predictions[morph]\n",
    "\n",
    "    params = {'n_batch': n_batch,\n",
    "            'target': target.tolist(),\n",
    "            'morph': morph,\n",
    "              }\n",
    "\n",
    "    start_time = time.time()\n",
    "    for ridx in range(1):\n",
    "        \n",
    "        fake_payload = [{\"role\": \"user\", \"content\": [{\"type\": \"text\", \"text\": \"N/A\"}]}]\n",
    "    \n",
    "        these_bitstr = np.random.choice(list(possible_sequences), n_batch*n_iter, replace=False)\n",
    "        these_sequences = [it.replace('0', 'A').replace('1', 'B') for it in these_bitstr]\n",
    "        \n",
    "        seq_by_iter = np.array_split(these_sequences, n_iter)\n",
    "        \n",
    "        for i in range(n_iter):\n",
    "            out = model_utils.evaluate_sequences(seq_by_iter[i], target, model_ensemble)\n",
    "            fake_payload.append(message_utils.build_user_message(batch_prompt, out))\n",
    "        \n",
    "        buffer = {'params': params, 'messages': fake_payload}\n",
    "        suffix = str(ridx)\n",
    "        logfile = f'logs/random-{start_time}{suffix}.json'\n",
    "        with open(logfile, 'w') as fid:\n",
    "            json.dump(buffer, fid)"
   ]
  },
  {
   "cell_type": "code",
   "execution_count": null,
   "outputs": [],
   "source": [],
   "metadata": {
    "collapsed": false
   },
   "id": "a66240a28156c537"
  }
 ],
 "metadata": {
  "kernelspec": {
   "display_name": "Python 3",
   "language": "python",
   "name": "python3"
  },
  "language_info": {
   "codemirror_mode": {
    "name": "ipython",
    "version": 2
   },
   "file_extension": ".py",
   "mimetype": "text/x-python",
   "name": "python",
   "nbconvert_exporter": "python",
   "pygments_lexer": "ipython2",
   "version": "2.7.6"
  }
 },
 "nbformat": 4,
 "nbformat_minor": 5
}

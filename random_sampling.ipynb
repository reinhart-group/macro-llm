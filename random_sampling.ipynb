{
 "cells": [
  {
   "cell_type": "code",
   "execution_count": 30,
   "outputs": [
    {
     "name": "stdout",
     "output_type": "stream",
     "text": [
      "generated 524800 sequences\n",
      "choosing from 63090 sequences\n"
     ]
    }
   ],
   "source": [
    "# generate all sequences by composition\n",
    "n = 20\n",
    "allow_symmetry = False\n",
    "all_seq_by_frac = {k: set() for k in range(n+1)}\n",
    "limit = 2**n\n",
    "for i in range(limit):\n",
    "    sequence = bin(i)[2:].zfill(n)\n",
    "    mirror_sequence = sequence[::-1]\n",
    "    if sequence <= mirror_sequence or allow_symmetry:\n",
    "        all_seq_by_frac[sequence.count('1')].add(sequence)\n",
    "\n",
    "# create a master list of all possible sequences\n",
    "all_sequences = []\n",
    "for k, v in all_seq_by_frac.items():\n",
    "    all_sequences += v\n",
    "print(f'generated {len(all_sequences)} sequences')\n",
    "possible_sequences = sorted(all_seq_by_frac[8])  # without sort the order is NOT guaranteed\n",
    "print(f'choosing from {len(possible_sequences)} sequences')"
   ],
   "metadata": {
    "collapsed": false,
    "ExecuteTime": {
     "end_time": "2024-08-27T13:31:56.736125Z",
     "start_time": "2024-08-27T13:31:56.166204Z"
    }
   },
   "id": "78218b79ba204cc"
  },
  {
   "cell_type": "code",
   "execution_count": 31,
   "outputs": [],
   "source": [
    "import os\n",
    "import torch\n",
    "\n",
    "# load the model ensemble\n",
    "model_ensemble = []\n",
    "model_path = os.path.join('models', 'gru-opt-cv10-sym')\n",
    "for i in range(10):\n",
    "    model = torch.jit.load(os.path.join(model_path, f'fold-{i:02d}-scripted.pt'), map_location='cpu')\n",
    "    model.eval()\n",
    "    model_ensemble.append(model)"
   ],
   "metadata": {
    "collapsed": false,
    "ExecuteTime": {
     "end_time": "2024-08-27T13:31:57.445303Z",
     "start_time": "2024-08-27T13:31:57.372259Z"
    }
   },
   "id": "321157851da32cee"
  },
  {
   "cell_type": "code",
   "execution_count": 33,
   "id": "initial_id",
   "metadata": {
    "collapsed": true,
    "ExecuteTime": {
     "end_time": "2024-08-27T13:34:23.752373Z",
     "start_time": "2024-08-27T13:34:00.551316Z"
    }
   },
   "outputs": [
    {
     "name": "stdout",
     "output_type": "stream",
     "text": [
      "computing results for liquid...\n",
      "computing results for membrane...\n",
      "computing results for spherical micelle...\n",
      "computing results for string...\n",
      "computing results for vesicle...\n",
      "computing results for wormlike micelle...\n"
     ]
    }
   ],
   "source": [
    "import json\n",
    "import model_utils, message_utils\n",
    "import numpy as np\n",
    "from target_defs import archetype_predictions, archetype_sequences\n",
    "import time\n",
    "\n",
    "\n",
    "n_batch = 5\n",
    "n_iter = 10\n",
    "batch_prompt = \"Here\\n<result>\\nNote\"  # an empty/fake prompt to facilitate the message_utils\n",
    "use_seed = False\n",
    "  \n",
    "arch_morphs = list(archetype_predictions.keys())\n",
    "for morph in arch_morphs:\n",
    "\n",
    "    print(f'computing results for {morph}...')\n",
    "    target = archetype_predictions[morph]\n",
    "\n",
    "    params = {'n_batch': n_batch,\n",
    "              'target': target.tolist(),\n",
    "              'morph': morph,\n",
    "              'use_seed': use_seed,\n",
    "              }\n",
    "\n",
    "    start_time = time.time()\n",
    "    for ridx in range(5):\n",
    "        \n",
    "        fake_payload = [{\"role\": \"user\", \"content\": [{\"type\": \"text\", \"text\": \"N/A\"}]}]\n",
    "    \n",
    "        rng = np.random.RandomState(ridx)\n",
    "        init_idx = rng.choice(np.arange(len(possible_sequences)), n_batch, replace=False)\n",
    "        init_bitstr = [possible_sequences[it] for it in init_idx]\n",
    "\n",
    "        if use_seed:\n",
    "            init_bitstr[0] = archetype_sequences[morph]\n",
    "        init_sequences = [it.replace('0', 'A').replace('1', 'B') for it in init_bitstr]\n",
    "    \n",
    "        is_avail = np.ones(len(possible_sequences))\n",
    "        is_avail[init_idx] = 0\n",
    "        p_seq = is_avail / np.sum(is_avail)\n",
    "\n",
    "        rollout_bitstr = rng.choice(possible_sequences, n_batch*(n_iter-1), p=p_seq, replace=False)\n",
    "        rollout_sequences = [it.replace('0', 'A').replace('1', 'B') for it in rollout_bitstr]\n",
    "        \n",
    "        seq_by_iter = np.array_split(init_sequences + rollout_sequences, n_iter)\n",
    "        \n",
    "        for i in range(n_iter):\n",
    "            out = model_utils.evaluate_sequences(seq_by_iter[i], target, model_ensemble)\n",
    "            fake_payload.append(message_utils.build_user_message(batch_prompt, out))\n",
    "        \n",
    "        param_hash = message_utils.hash_dict(params)\n",
    "        buffer = {'params': params, 'messages': fake_payload}\n",
    "        suffix = str(ridx)\n",
    "        seed_hash = 'seeded' if use_seed else 'unseeded'\n",
    "        logdir = f'data/corrected-batches/{seed_hash}/random/{morph}/'\n",
    "        if not os.path.isdir(logdir):\n",
    "            os.mkdir(logdir)\n",
    "        logfile = os.path.join(logdir, f'random-{param_hash}-{start_time}{suffix}.json')\n",
    "        with open(logfile, 'w') as fid:\n",
    "            json.dump(buffer, fid)"
   ]
  },
  {
   "cell_type": "code",
   "execution_count": null,
   "outputs": [],
   "source": [],
   "metadata": {
    "collapsed": false
   },
   "id": "6ac522558661666a"
  }
 ],
 "metadata": {
  "kernelspec": {
   "display_name": "Python 3",
   "language": "python",
   "name": "python3"
  },
  "language_info": {
   "codemirror_mode": {
    "name": "ipython",
    "version": 2
   },
   "file_extension": ".py",
   "mimetype": "text/x-python",
   "name": "python",
   "nbconvert_exporter": "python",
   "pygments_lexer": "ipython2",
   "version": "2.7.6"
  }
 },
 "nbformat": 4,
 "nbformat_minor": 5
}

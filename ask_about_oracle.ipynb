{
 "cells": [
  {
   "cell_type": "code",
   "execution_count": 15,
   "outputs": [],
   "source": [
    "import anthropic\n",
    "\n",
    "\n",
    "# set up the LLM client\n",
    "with open('credentials/credentials-anthropic.txt', 'r') as fid:\n",
    "    api_key = fid.read().strip()\n",
    "\n",
    "client = anthropic.Anthropic(api_key=api_key, timeout=30, max_retries=1)"
   ],
   "metadata": {
    "collapsed": false,
    "ExecuteTime": {
     "end_time": "2024-04-19T16:46:40.468354Z",
     "start_time": "2024-04-19T16:46:40.444593Z"
    }
   },
   "id": "bf7a80a51c0eaec1"
  },
  {
   "cell_type": "code",
   "execution_count": 34,
   "outputs": [
    {
     "name": "stdout",
     "output_type": "stream",
     "text": [
      "[{'role': 'user', 'content': [{'type': 'text', 'text': \"You are an evolutionary optimizer. Your objective is to find a sequence of 'A' characters and 'B' characters that minimizes a metric. I have an oracle that takes in the sequence of 20 characters and produces a numerical distance from the desired result. The smaller the distance, the closer the sequence is to the desired result. Please propose five sequences of 20 characters in the format 'ABBA...'\\nWhen proposing the new batch, consider the following guidelines:\\n1. Each sequence must be exactly 20 characters long and should have approximately 12 'A' characters and 8 'B' characters.\\n2. Sequences with distances less than 1.34 are considered good solutions, and you should propose sequences that are similar to these, with some variations to explore the nearby solution space.\\n3. Maintain a balance between exploiting the promising solutions and exploring new regions of the solution space to avoid getting stuck in local minima.\\n4. Avoid proposing duplicate sequences or sequences that have already been evaluated.\\n5. The process will continue for 10 iterations and should identify as many good solutions as possible. Make sure to keep track of the iteration count so you can plan your strategy accordingly.\\n6. For each batch, report only the proposed sequences without any explanation.\\nHere is an initial batch selected completely at random to get you started:\\nAABAABABBAAAAAAABBBB: 8.148\\nAABABBAABABAAAAABBBA: 9.327\\nAABAABAAAAABBBABBABA: 9.671\\nAABBAAAABBAABBBAAABA: 11.858\\nABABAAAABAABAABBBABA: 13.305\\n\"}]}, {'role': 'assistant', 'content': [{'type': 'text', 'text': 'AABAABABBAAAAAAABBBA\\nAABABBAABABAAAAABBAB\\nAABAABABBAAAAAAABABB\\nAABAABABBAAAAAABBBBA\\nAABABBAABABAAAABBBAA'}]}, {'role': 'user', 'content': [{'type': 'text', 'text': 'Here are the sequences from the previous batch and their corresponding distances to the desired result:\\nAABAABABBAAAAAAABBBA: 7.982\\nAABABBAABABAAAAABBAB: 8.819\\nAABAABABBAAAAAAABABB: 7.198\\nAABAABABBAAAAAABBBBA: 11.181\\nAABABBAABABAAAABBBAA: 10.953\\nNote that only distances of less than 1.34 are considered good solutions.\\nBased on these results, please propose a new batch of five 20-character sequences that yield better results.'}]}, {'role': 'assistant', 'content': [{'type': 'text', 'text': 'AABAABABBAAAAAAABABB\\nAABAABABBAAAAAAABBAB\\nAABAABABBAAAAAAABBAA\\nAABAABABBAAAAAABAABB\\nAABAABABBAAAAAABBBAB'}]}, {'role': 'user', 'content': [{'type': 'text', 'text': 'Here are the sequences from the previous batch and their corresponding distances to the desired result:\\nAABAABABBAAAAAAABBAB: 7.608\\nAABAABABBAAAAAAABBAA: 5.634\\nAABAABABBAAAAAABAABB: 10.337\\nAABAABABBAAAAAABBBAB: 10.904\\nAABAABABBAAAAAAABBBB: 8.148\\nNote that only distances of less than 1.34 are considered good solutions.\\nBased on these results, please propose a new batch of five 20-character sequences that yield better results.'}]}, {'role': 'assistant', 'content': [{'type': 'text', 'text': 'AABAABABBAAAAAAABBAA\\nAABAABABBAAAAAAABBBA\\nAABAABABBAAAAAAABABA\\nAABAABABBAAAAAAABAAB\\nAABAABABBAAAAAABBAAA'}]}, {'role': 'user', 'content': [{'type': 'text', 'text': 'Here are the sequences from the previous batch and their corresponding distances to the desired result:\\nAABAABABBAAAAAAABABA: 6.223\\nAABAABABBAAAAAAABAAB: 6.196\\nAABAABABBAAAAAABBAAA: 7.529\\nAABAABABBAAAAAABBBAA: 10.323\\nBABAABABBAAAAAAABBBA: 2.326\\nNote that only distances of less than 1.34 are considered good solutions.\\nBased on these results, please propose a new batch of five 20-character sequences that yield better results.'}]}, {'role': 'assistant', 'content': [{'type': 'text', 'text': 'BABAABABBAAAAAAABBBA\\nBABAABABBAAAAAAABBAA\\nBABAABABBAAAAAAABABA\\nBABAABABBAAAAAABBBAA\\nBABAABABBAAAAAAAABBA'}]}, {'role': 'user', 'content': [{'type': 'text', 'text': 'Here are the sequences from the previous batch and their corresponding distances to the desired result:\\nBABAABABBAAAAAAABBAA: 3.874\\nBABAABABBAAAAAAABABA: 4.931\\nBABAABABBAAAAAABBBAA: 7.610\\nBABAABABBAAAAAAAABBA: 4.934\\nAABAABABBAAAABAABBBA: 12.578\\nNote that only distances of less than 1.34 are considered good solutions.\\nBased on these results, please propose a new batch of five 20-character sequences that yield better results.'}]}, {'role': 'assistant', 'content': [{'type': 'text', 'text': 'BABAABABBAAAAAAABBBA\\nBABAABABBAAAAAAABBAB\\nBABAABABBAAAAAAABBBB\\nBABAABABBAAAAAABBBBA\\nBABAABABBAAAAAABBABA'}]}, {'role': 'user', 'content': [{'type': 'text', 'text': 'Here are the sequences from the previous batch and their corresponding distances to the desired result:\\nBABAABABBAAAAAAABBAB: 2.491\\nBABAABABBAAAAAAABBBB: 2.901\\nBABAABABBAAAAAABBBBA: 4.218\\nBABAABABBAAAAAABBABA: 5.322\\nBABAABAABAAAAAAABBBA: 5.094\\nNote that only distances of less than 1.34 are considered good solutions.\\nBased on these results, please propose a new batch of five 20-character sequences that yield better results.'}]}, {'role': 'assistant', 'content': [{'type': 'text', 'text': 'BABAABABBAAAAAAABBBA\\nBABAABABBAAAAAAABBAB\\nBABAABABBAAAAAAABABA\\nBABAABABBAAAAAAABABB\\nBABAABABBAAAAAABAABA'}]}, {'role': 'user', 'content': [{'type': 'text', 'text': 'Here are the sequences from the previous batch and their corresponding distances to the desired result:\\nBABAABABBAAAAAAABABB: 2.486\\nBABAABABBAAAAAABAABA: 6.004\\nBABAABABBAAAAABABABA: 7.152\\nBABAABABBAAAAAABBBAB: 4.048\\nBABABBABBAAAAAAABABA: 5.268\\nNote that only distances of less than 1.34 are considered good solutions.\\nBased on these results, please propose a new batch of five 20-character sequences that yield better results.'}]}, {'role': 'assistant', 'content': [{'type': 'text', 'text': 'BABAABABBAAAAAAABBBA\\nBABAABABBAAAAAAABBAB\\nBABAABABBAAAAAAABABA\\nBABAABABBAAAAAAABABB\\nBABAABABBAAAAAAABBAA'}]}, {'role': 'user', 'content': [{'type': 'text', 'text': 'Here are the sequences from the previous batch and their corresponding distances to the desired result:\\nBBBAABABBAAAAAAABBBA: 2.749\\nBABAABABBABAAAAABBAB: 6.925\\nBABAAAABBAAAAAAABABA: 6.651\\nBABAAAABBAAAAAAABABB: 5.291\\nBABAABABBABAAAAABBBA: 6.289\\nNote that only distances of less than 1.34 are considered good solutions.\\nBased on these results, please propose a new batch of five 20-character sequences that yield better results.'}]}, {'role': 'assistant', 'content': [{'type': 'text', 'text': 'BABAABABBAAAAAAABBBA\\nBABAABABBAAAAAAABBAB\\nBABAABABBAAAAAAABABA\\nBABAABABBAAAAAAABABB\\nBABAABABBAAAAAAABBAA'}]}, {'role': 'user', 'content': [{'type': 'text', 'text': 'Here are the sequences from the previous batch and their corresponding distances to the desired result:\\nBABAABABBAAAAAAAABBB: 3.814\\nBABAAAABBAAAAAAABBBB: 4.849\\nBABAABABBBAAAAAABABB: 3.953\\nBABAABABBAAABAAABABB: 9.130\\nAABAABABBBAAAAAABBAA: 7.601\\nNote that only distances of less than 1.34 are considered good solutions.\\nBased on these results, please propose a new batch of five 20-character sequences that yield better results.'}]}, {'role': 'assistant', 'content': [{'type': 'text', 'text': 'BABAABABBAAAAAAABBBA\\nBABAABABBAAAAAAABBAB\\nBABAABABBAAAAAAABABA\\nBABAABABBAAAAAAABABB\\nBABAABABBAAAAAAABBAA'}]}, {'role': 'user', 'content': [{'type': 'text', 'text': 'Here are the sequences from the previous batch and their corresponding distances to the desired result:\\nBABBABABBAAAAAAABBBA: 1.960\\nBABAABABBAAAAABABBAB: 5.226\\nBABAABABAAAAAAAABABB: 2.914\\nBABAAAABBBAAAAAABABB: 7.794\\nBABAABABBAAAAABABBAA: 9.313\\nNote that only distances of less than 1.34 are considered good solutions.\\nBased on these results, please propose a new batch of five 20-character sequences that yield better results.'}]}]\n"
     ]
    }
   ],
   "source": [
    "import json\n",
    "import os\n",
    "\n",
    "log = os.path.join('data', 'llm-logs', 'unseeded', 'oracle', 'spherical micelle', 'claude-test-ecc62fb8-17128668950.json')\n",
    "with open(log, 'r') as fid:\n",
    "    buffer = json.load(fid)\n",
    "print(buffer['messages'])"
   ],
   "metadata": {
    "collapsed": false,
    "ExecuteTime": {
     "end_time": "2024-04-19T17:26:00.570147Z",
     "start_time": "2024-04-19T17:26:00.551672Z"
    }
   },
   "id": "b05ccb39239ed0b8"
  },
  {
   "cell_type": "code",
   "execution_count": 35,
   "outputs": [
    {
     "name": "stdout",
     "output_type": "stream",
     "text": [
      "Message(id='msg_01LJvVUTYkTMJHnLhmP4298f', content=[ContentBlock(text=\"Based on the conversation, it seems that the computer simulation is an optimization problem where the goal is to find a specific sequence of 20 characters, consisting of only 'A' and 'B', that minimizes a certain metric or distance from a desired result. The simulation provides a numerical distance value for each proposed sequence, indicating how close it is to the optimal solution.\\n\\nSome key observations about the nature of this simulation:\\n\\n1. The optimal sequence appears to have a specific pattern or arrangement of 'A' and 'B' characters.\\n\\n2. The simulation likely has a complex landscape of solutions, with multiple local minima, making it challenging to find the global minimum (the optimal sequence).\\n\\n3. The desired solution seems to have approximately 12 'A' characters and 8 'B' characters, suggesting that the ratio and positioning of these characters are important factors.\\n\\n4. The simulation might be modeling a real-world problem or a mathematical function where the arrangement of two distinct elements (represented by 'A' and 'B') has a significant impact on the outcome.\\n\\n5. The evolutionary optimization approach, which involves proposing batches of sequences, evaluating their distances, and iteratively refining the solutions, is well-suited for this type of problem where the solution space is vast, and the optimal solution is not easily determined through analytical methods.\\n\\nSome potential real-world applications that this simulation could be modeling include:\\n\\n1. Protein folding: Optimizing the sequence of amino acids (represented by 'A' and 'B') to minimize the energy state of a protein.\\n\\n2. Material design: Finding the optimal arrangement of two distinct components in a composite material to maximize its desired properties.\\n\\n3. Scheduling optimization: Determining the best sequence of two types of tasks or activities to minimize overall time or cost.\\n\\nWithout more specific information about the context of the simulation, it is difficult to determine its exact nature. However, the problem structure and the optimization approach used suggest that it is a complex, non-linear problem with potential applications in various scientific and engineering domains.\", type='text')], model='claude-3-opus-20240229', role='assistant', stop_reason='end_turn', stop_sequence=None, type='message', usage=Usage(input_tokens=1999, output_tokens=444))\n"
     ]
    }
   ],
   "source": [
    "# question = \"Based on the conversation, please speculate on the nature of the oracle function described above.\"\n",
    "# question = \"The oracle function referred to above is a computer simulation commonly used in the physical sciences. Based on the conversation, please speculate on the nature of this computer simulation.\"\n",
    "question = \"The oracle function referred to above is a computer simulation. Based on the conversation, please speculate on the nature of this computer simulation.\"\n",
    "mesages = buffer['messages']\n",
    "mesages[-1] = {\"role\": \"user\", \"content\": [{\"type\": \"text\", \"text\": question}]}\n",
    "\n",
    "response = client.messages.create(\n",
    "            model=\"claude-3-opus-20240229\",\n",
    "            max_tokens=1000,\n",
    "            temperature=0,\n",
    "            messages=mesages,\n",
    ")\n",
    "\n",
    "print(response)"
   ],
   "metadata": {
    "collapsed": false,
    "ExecuteTime": {
     "end_time": "2024-04-19T17:26:30.361047Z",
     "start_time": "2024-04-19T17:26:00.560420Z"
    }
   },
   "id": "368b867bd1702494"
  },
  {
   "cell_type": "code",
   "execution_count": null,
   "outputs": [],
   "source": [],
   "metadata": {
    "collapsed": false
   },
   "id": "a6172a9663cdb50c"
  }
 ],
 "metadata": {
  "kernelspec": {
   "display_name": "Python 3",
   "language": "python",
   "name": "python3"
  },
  "language_info": {
   "codemirror_mode": {
    "name": "ipython",
    "version": 2
   },
   "file_extension": ".py",
   "mimetype": "text/x-python",
   "name": "python",
   "nbconvert_exporter": "python",
   "pygments_lexer": "ipython2",
   "version": "2.7.6"
  }
 },
 "nbformat": 4,
 "nbformat_minor": 5
}

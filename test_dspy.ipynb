{
 "cells": [
  {
   "cell_type": "code",
   "execution_count": 2,
   "id": "initial_id",
   "metadata": {
    "collapsed": true,
    "ExecuteTime": {
     "end_time": "2024-03-11T15:25:00.643114Z",
     "start_time": "2024-03-11T15:25:00.590952Z"
    }
   },
   "outputs": [],
   "source": [
    "import dspy\n",
    "import json\n",
    "from openai import OpenAI\n",
    "\n",
    "with open(\"credentials-openai.json\", \"r\") as fid:\n",
    "    credentials = json.load(fid)\n",
    "\n",
    "client = OpenAI(api_key=credentials[\"api_key\"])\n",
    "\n",
    "def send_openai_message(messages, client, model):\n",
    "    response = client.chat.completions.create(\n",
    "        messages=messages,\n",
    "        model=model,\n",
    "        temperature=0.,\n",
    "    )\n",
    "    return response\n"
   ]
  },
  {
   "cell_type": "code",
   "execution_count": 7,
   "outputs": [],
   "source": [
    "turbo = dspy.OpenAI(model='gpt-4-0125-preview', api_key=credentials[\"api_key\"])\n",
    "dspy.settings.configure(lm=turbo)"
   ],
   "metadata": {
    "collapsed": false,
    "ExecuteTime": {
     "end_time": "2024-03-11T15:27:41.941138Z",
     "start_time": "2024-03-11T15:27:41.935192Z"
    }
   },
   "id": "6c72681b10ad1d2c"
  },
  {
   "cell_type": "code",
   "execution_count": 12,
   "outputs": [],
   "source": [
    "class BasicQA(dspy.Signature):\n",
    "    \"\"\"Identify sequences through a sequential learning scheme.\"\"\"\n",
    "\n",
    "    question = dspy.InputField()\n",
    "    answer = dspy.OutputField(desc=\"several 20-character sequences each comprised of 12 A tokens and 8 B tokens\")"
   ],
   "metadata": {
    "collapsed": false,
    "ExecuteTime": {
     "end_time": "2024-03-11T15:41:18.497054Z",
     "start_time": "2024-03-11T15:41:18.482112Z"
    }
   },
   "id": "d0c26916a0c3a575"
  },
  {
   "cell_type": "code",
   "execution_count": 13,
   "outputs": [
    {
     "name": "stdout",
     "output_type": "stream",
     "text": [
      "Question: I have an oracle that takes in a sequence of 20 characters and produces a distance from the desired result. The input sequences are comprised of permutations of 12 A characters and 8 B characters. Please propose five of these 20-character sequences (in the format ABBA...) so I can evaluate them with the oracle. Remember they must be 20 characters long and should have 12 A characters.\n",
      "Predicted Answer: AAAABBBBAAAABBBBAAAA\n",
      "AAABBBBAAAABBBBAAAAA\n",
      "AABBAABBAABBAABBAABB\n",
      "BBBAAAABBBBAAAABAAAA\n",
      "AABBBAAABBBAAABBBAAA\n"
     ]
    }
   ],
   "source": [
    "# Define the predictor.\n",
    "generate_answer = dspy.Predict(BasicQA)\n",
    "\n",
    "dev_question = \"I have an oracle that takes in a sequence of 20 characters and produces a distance from the desired result. The input sequences are comprised of permutations of 12 A characters and 8 B characters. Please propose five of these 20-character sequences (in the format ABBA...) so I can evaluate them with the oracle. Remember they must be 20 characters long and should have 12 A characters.\"\n",
    "\n",
    "# Call the predictor on a particular input.\n",
    "pred = generate_answer(question=dev_question)\n",
    "\n",
    "# Print the input and the prediction.\n",
    "print(f\"Question: {dev_question}\")\n",
    "print(f\"Predicted Answer: {pred.answer}\")"
   ],
   "metadata": {
    "collapsed": false,
    "ExecuteTime": {
     "end_time": "2024-03-11T15:41:23.411147Z",
     "start_time": "2024-03-11T15:41:19.108536Z"
    }
   },
   "id": "42858be63b456c91"
  },
  {
   "cell_type": "code",
   "execution_count": 14,
   "outputs": [
    {
     "name": "stdout",
     "output_type": "stream",
     "text": [
      "\n",
      "\n",
      "\n",
      "\n",
      "Answer questions with short factoid answers.\n",
      "\n",
      "---\n",
      "\n",
      "Follow the following format.\n",
      "\n",
      "Question: ${question}\n",
      "Answer: several 20-character sequences each comprised of 12 A tokens and 8 B tokens\n",
      "\n",
      "---\n",
      "\n",
      "Question: I have an oracle that takes in a sequence of 20 characters and produces a distance from the desired result. The input sequences are comprised of permutations of 12 A characters and 8 B characters. Please propose five of these 20-character sequences (in the format ABBA...) so I can evaluate them with the oracle. Remember they must be 20 characters long and should have 12 A characters.\n",
      "Answer:\u001B[32m AAAABBBBAAAABBBBAAAA\n",
      "AAABBBBAAAABBBBAAAAA\n",
      "AABBAABBAABBAABBAABB\n",
      "BBBAAAABBBBAAAABAAAA\n",
      "AABBBAAABBBAAABBBAAA\u001B[0m\n"
     ]
    }
   ],
   "source": [
    "turbo.inspect_history(n=1)"
   ],
   "metadata": {
    "collapsed": false,
    "ExecuteTime": {
     "end_time": "2024-03-11T15:41:30.616706Z",
     "start_time": "2024-03-11T15:41:30.613481Z"
    }
   },
   "id": "ce0c2957d8313f46"
  },
  {
   "cell_type": "code",
   "execution_count": 15,
   "outputs": [
    {
     "name": "stdout",
     "output_type": "stream",
     "text": [
      "Question: I have an oracle that takes in a sequence of 20 characters and produces a distance from the desired result. The input sequences are comprised of permutations of 12 A characters and 8 B characters. Please propose five of these 20-character sequences (in the format ABBA...) so I can evaluate them with the oracle. Remember they must be 20 characters long and should have 12 A characters.\n",
      "Thought: We need to create sequences that are 20 characters long with exactly 12 A characters and 8 B characters. Here are five possible permutations:\n",
      "Predicted Answer: AABBAABBAAABABABABAB, ABBABAABAAABABBABAAB, AAABABABABBABAABABAB, AABAABABABBABAABABAB, ABABABABAABAABABABAB\n"
     ]
    }
   ],
   "source": [
    "# Define the predictor. Notice we're just changing the class. The signature BasicQA is unchanged.\n",
    "generate_answer_with_chain_of_thought = dspy.ChainOfThought(BasicQA)\n",
    "\n",
    "# Call the predictor on the same input.\n",
    "pred = generate_answer_with_chain_of_thought(question=dev_question)\n",
    "\n",
    "# Print the input, the chain of thought, and the prediction.\n",
    "print(f\"Question: {dev_question}\")\n",
    "print(f\"Thought: {pred.rationale.split('.', 1)[1].strip()}\")\n",
    "print(f\"Predicted Answer: {pred.answer}\")"
   ],
   "metadata": {
    "collapsed": false,
    "ExecuteTime": {
     "end_time": "2024-03-11T15:42:34.124101Z",
     "start_time": "2024-03-11T15:42:27.467199Z"
    }
   },
   "id": "317a268615d7e6c4"
  },
  {
   "cell_type": "code",
   "execution_count": null,
   "outputs": [],
   "source": [
    "from dspy.teleprompt import BootstrapFewShot\n",
    "\n",
    "\n",
    "class GenerateAnswer(dspy.Signature):\n",
    "    \"\"\"Answer questions with short factoid answers.\"\"\"\n",
    "\n",
    "    context = dspy.InputField(desc=\"may contain relevant facts\")\n",
    "    question = dspy.InputField()\n",
    "    answer = dspy.OutputField(desc=\"often between 1 and 5 words\")\n",
    "\n",
    "\n",
    "class RAG(dspy.Module):\n",
    "    def __init__(self, num_passages=3):\n",
    "        super().__init__()\n",
    "\n",
    "        self.retrieve = dspy.Retrieve(k=num_passages)\n",
    "        self.generate_answer = dspy.ChainOfThought(GenerateAnswer)\n",
    "    \n",
    "    def forward(self, question):\n",
    "        context = self.retrieve(question).passages\n",
    "        prediction = self.generate_answer(context=context, question=question)\n",
    "        return dspy.Prediction(context=context, answer=prediction.answer)\n",
    "\n",
    "\n",
    "# Validation logic: check that the predicted answer is correct.\n",
    "# Also check that the retrieved context does actually contain that answer.\n",
    "def validate_context_and_answer(example, pred, trace=None):\n",
    "    answer_EM = dspy.evaluate.answer_exact_match(example, pred)\n",
    "    answer_PM = dspy.evaluate.answer_passage_match(example, pred)\n",
    "    return answer_EM and answer_PM\n",
    "\n",
    "# Set up a basic teleprompter, which will compile our RAG program.\n",
    "teleprompter = BootstrapFewShot(metric=validate_context_and_answer)\n",
    "\n",
    "# Compile!\n",
    "compiled_rag = teleprompter.compile(RAG(), trainset=trainset)"
   ],
   "metadata": {
    "collapsed": false
   },
   "id": "5f90b1ea79efbc44"
  }
 ],
 "metadata": {
  "kernelspec": {
   "display_name": "Python 3",
   "language": "python",
   "name": "python3"
  },
  "language_info": {
   "codemirror_mode": {
    "name": "ipython",
    "version": 2
   },
   "file_extension": ".py",
   "mimetype": "text/x-python",
   "name": "python",
   "nbconvert_exporter": "python",
   "pygments_lexer": "ipython2",
   "version": "2.7.6"
  }
 },
 "nbformat": 4,
 "nbformat_minor": 5
}

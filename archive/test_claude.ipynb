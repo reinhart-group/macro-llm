{
 "cells": [
  {
   "cell_type": "code",
   "execution_count": 2,
   "outputs": [],
   "source": [
    "import numpy as np\n",
    "import os\n",
    "import torch\n",
    "\n",
    "\n",
    "model_ensemble = []\n",
    "model_path = os.path.join('models', 'gru-opt-cv10-sym')\n",
    "for i in range(10):\n",
    "    model = torch.jit.load(os.path.join(model_path, f'fold-{i:02d}-scripted.pt'), map_location='cpu')\n",
    "    model.eval()\n",
    "    model_ensemble.append(model)"
   ],
   "metadata": {
    "collapsed": false,
    "ExecuteTime": {
     "end_time": "2024-03-19T20:06:55.278113Z",
     "start_time": "2024-03-19T20:06:50.874128Z"
    }
   },
   "id": "f56095b9a4ad1c80"
  },
  {
   "cell_type": "code",
   "execution_count": 3,
   "outputs": [
    {
     "name": "stdout",
     "output_type": "stream",
     "text": [
      "membrane ; sheet-like membranes ; [1.132 8.499]\n"
     ]
    }
   ],
   "source": [
    "archetype_sequences = {'liquid': 'BAABAABAABAABABBAAAB',\n",
    "                     'membrane': 'ABAAABBAAAABBABBBAAA',\n",
    "                     'spherical micelle': 'BBBBBBBBAAAAAAAAAAAA',\n",
    "                     'string': 'ABBABABAAAAABABBABAA',\n",
    "                     'vesicle': 'BABBBAABAAAABAABAABA',\n",
    "                     'wormlike micelle': 'BBAAABBBAAAABBBAAAAA',\n",
    "                     }\n",
    "archetype_targets = {'liquid': np.array([20.471924,  2.369606]),\n",
    "                     'membrane': np.array([1.214188, 9.048346]),\n",
    "                     'spherical micelle': np.array([ 2.774236, -4.223681]),\n",
    "                     'string': np.array([-4.319901,  7.762145]),\n",
    "                     'vesicle': np.array([ 6.136077, 10.73103 ]),\n",
    "                     'wormlike micelle': np.array([-4.627726,  0.183026]),\n",
    "                     }\n",
    "archetype_predictions = {'liquid': np.array([18.177, 2.932]),\n",
    "                     'membrane': np.array([1.132, 8.499]),\n",
    "                     'spherical micelle': np.array([2.901, -4.351]),\n",
    "                     'string': np.array([-4.079, 6.662]),\n",
    "                     'vesicle': np.array([6.498, 8.414]),\n",
    "                     'wormlike micelle': np.array([-3.771, 0.172]),\n",
    "                     }\n",
    "archetype_plaintext = {'spherical micelle': 'spherical micelles',\n",
    "                       'membrane': 'sheet-like membranes',\n",
    "                       'wormlike micelle': 'worm-like micelles',\n",
    "                       'liquid': 'amorphous liquid droplets',\n",
    "                       'string': 'string-like aggregates',\n",
    "                       # 'string': 'tangled intertwined polymer chain knots'\n",
    "                       }\n",
    "# morph = 'spherical micelle'\n",
    "# morph = 'string'\n",
    "# morph = 'liquid'\n",
    "# morph = 'wormlike micelle'\n",
    "morph = 'membrane'\n",
    "# target = archetype_targets[morph]\n",
    "target = archetype_predictions[morph]\n",
    "target_description = archetype_plaintext[morph]\n",
    "print(morph, ';', target_description, ';', target)"
   ],
   "metadata": {
    "collapsed": false,
    "ExecuteTime": {
     "end_time": "2024-03-19T20:06:55.286381Z",
     "start_time": "2024-03-19T20:06:55.279453Z"
    }
   },
   "id": "2031d69cbd98ed04"
  },
  {
   "cell_type": "code",
   "execution_count": 3,
   "outputs": [],
   "source": [
    "import anthropic\n",
    "\n",
    "with open('credentials-anthropic.txt', 'r') as fid:\n",
    "    api_key = fid.read().strip() \n",
    "\n",
    "client = anthropic.Anthropic(api_key=api_key)"
   ],
   "metadata": {
    "collapsed": false,
    "ExecuteTime": {
     "end_time": "2024-03-18T21:00:17.751244Z",
     "start_time": "2024-03-18T21:00:17.191981Z"
    }
   },
   "id": "initial_id"
  },
  {
   "cell_type": "code",
   "execution_count": 4,
   "outputs": [],
   "source": [
    "initial_prompt = f\"I am performing MD simulations of sequence defined macromolecules with Kremer-Grest type potentials. There are attractive A-type beads and purely repulsive B-type beads connected by FENE springs. The polymer chains are 20-mers with a fixed composition of 12 A-type monomers. Please propose five 20-mers (in the format ABBA...) that are likely to form {target_description} so I can evaluate them with MD. Remember they must be 20-mers and should have 12 A-type beads.\"# I know that {archetype_sequences[morph]} gives a good result.\"\n",
    "\n",
    "# batch_prompt = f\"\"\"\"Here are the sequences and their distance to the desired morphology:\n",
    "# <result>\n",
    "# Note that the target distance is less than 2. Please propose a new batch of 20-mers that are likely to form {target_description} so I can evaluate them with MD. Remember they must be 20-mers and should have 12 A-type beads. Please present the sequences as a code block.\n",
    "# \"\"\"\n",
    "\n",
    "batch_prompt = f\"\"\"\"Here are the sequences and their distance to the desired morphology:\n",
    "<result>\n",
    "Note that only distances less than 1.0 represent good solutions. Please propose a new batch of five 20-mers that are likely to form {target_description} so I can evaluate them with MD. Remember they must be 20-mers and should have 12 A-type beads.\"\"\""
   ],
   "metadata": {
    "collapsed": false,
    "ExecuteTime": {
     "end_time": "2024-03-18T21:00:17.757022Z",
     "start_time": "2024-03-18T21:00:17.751982Z"
    }
   },
   "id": "490d1436c7b5acdc"
  },
  {
   "cell_type": "code",
   "execution_count": 5,
   "outputs": [],
   "source": [
    "llm_model = \"claude-3-opus-20240229\"\n",
    "# llm_model = \"claude-3-sonnet-20240229\""
   ],
   "metadata": {
    "collapsed": false,
    "ExecuteTime": {
     "end_time": "2024-03-18T21:00:17.757361Z",
     "start_time": "2024-03-18T21:00:17.755213Z"
    }
   },
   "id": "6c6bbbc4d86c55ac"
  },
  {
   "cell_type": "code",
   "execution_count": 54,
   "outputs": [
    {
     "name": "stdout",
     "output_type": "stream",
     "text": [
      "\"Here are the sequences and their distance to the desired morphology:\n",
      "AAABABAAABAAABABAAAB: 9.394\n",
      "AAABAABAABAAAABAAABA: 13.403\n",
      "AABAAABAAAABAAABAAAB: 14.147\n",
      "AABAAAABAAABAAABAABA: 14.276\n",
      "AABAABAAABABAABAAAAB: 16.328\n",
      "Note that only distances less than 1.0 represent good solutions. Please propose a new batch of five 20-mers that are likely to form string-like aggregates so I can evaluate them with MD. Remember they must be 20-mers and should have 12 A-type beads.\n",
      "\"Here are the sequences and their distance to the desired morphology:\n",
      "AAAAABAAAAAABAAAAAAB: 11.407\n",
      "AAAAABAAAAABAAAAAAAB: 11.760\n",
      "AAABAAAAAAABAAAAABAA: 13.633\n",
      "AAABAAAAAABAAAAAABAA: 14.577\n",
      "AABAAAAAAABAAAAAAABA: 15.351\n",
      "Note that only distances less than 1.0 represent good solutions. Please propose a new batch of five 20-mers that are likely to form string-like aggregates so I can evaluate them with MD. Remember they must be 20-mers and should have 12 A-type beads.\n",
      "\"Here are the sequences and their distance to the desired morphology:\n",
      "ABBABABAAAAABABBABAA: 0.001\n",
      "ABBABAAAAAAABABBAABA: 5.388\n",
      "ABBABAAAAAAAABABBABA: 8.009\n",
      "ABABAAAAAAAABABBAABA: 10.571\n",
      "ABABAAAAAAAAABABBABA: 11.492\n",
      "ABBAAAAAAAABABBABABA: 13.302\n",
      "Note that only distances less than 1.0 represent good solutions. Please propose a new batch of five 20-mers that are likely to form string-like aggregates so I can evaluate them with MD. Remember they must be 20-mers and should have 12 A-type beads.\n",
      "\"Here are the sequences and their distance to the desired morphology:\n",
      "ABBABABAAAAABABBABAA: 0.001\n",
      "ABBABABAAAABABBABAAA: 0.433\n",
      "ABBABAAAAAABABBABAAA: 2.909\n",
      "ABBABAABAAAABABBABAA: 3.543\n",
      "ABBABAABAAAAABABBABA: 4.888\n",
      "ABBABABAAAABABBABABA: 12.113\n",
      "Note that only distances less than 1.0 represent good solutions. Please propose a new batch of five 20-mers that are likely to form string-like aggregates so I can evaluate them with MD. Remember they must be 20-mers and should have 12 A-type beads.\n",
      "\"Here are the sequences and their distance to the desired morphology:\n",
      "ABBABABAAAAABABBABAA: 0.001\n",
      "ABBABABAAAABABBABAAA: 0.433\n",
      "ABBABABAAAAABBABABAA: 0.496\n",
      "ABBABABAAAABABBAABAA: 4.138\n",
      "ABBABABAAAABABBAAAAA: 6.147\n",
      "ABBABABAAAABABBAAABA: 7.289\n",
      "ABBABABAAAABABBAAAAB: 8.665\n",
      "Note that only distances less than 1.0 represent good solutions. Please propose a new batch of five 20-mers that are likely to form string-like aggregates so I can evaluate them with MD. Remember they must be 20-mers and should have 12 A-type beads.\n"
     ]
    },
    {
     "data": {
      "text/plain": "(0.0, 18.0)"
     },
     "execution_count": 54,
     "metadata": {},
     "output_type": "execute_result"
    },
    {
     "data": {
      "text/plain": "<Figure size 640x480 with 1 Axes>",
      "image/png": "[encoded data removed]"
     },
     "metadata": {},
     "output_type": "display_data"
    }
   ],
   "source": [
    "import json\n",
    "import time\n",
    "import message_utils, model_utils\n",
    "\n",
    "max_tries = 5\n",
    "\n",
    "# create initial message\n",
    "messages = [{\"role\": \"user\", \"content\": [{\"type\": \"text\", \"text\": initial_prompt}]}]\n",
    "\n",
    "params = {'llm_model': llm_model,\n",
    "          'target': target.tolist(),\n",
    "          'initial_prompt': initial_prompt,\n",
    "          'batch_prompt': batch_prompt}\n",
    "\n",
    "n_iter = 5\n",
    "start_time = int(time.time())\n",
    "for _ in range(n_iter):\n",
    "    tries = 0\n",
    "    response = None\n",
    "    while tries < max_tries and response is None: \n",
    "        try:\n",
    "            response = message_utils.send_message(messages, client, llm_model)\n",
    "        except anthropic.InternalServerError:\n",
    "            print('received InternalServerError, trying again...')\n",
    "            tries += 1\n",
    "    messages.append(message_utils.build_llm_message(response.content[0].text))\n",
    "    result = message_utils.extract_AB_substrings(response.content[0].text)\n",
    "    these_sequences = list(set(message_utils.postproc_sequences(result)))\n",
    "    next_message = message_utils.build_user_message(batch_prompt, model_utils.evaluate_sequences(these_sequences, target, model_ensemble))\n",
    "    messages.append(next_message)\n",
    "    print(next_message['content'][0]['text'])\n",
    "\n",
    "    buffer = {'params': params, 'messages': messages}\n",
    "    with open(f'logs/claude-test-{start_time}.json', 'w') as fid:\n",
    "        json.dump(buffer, fid)\n",
    "        \n",
    "fig, ax = message_utils.plot_results_from_messages(messages)\n",
    "ax.set_ylim(0, 18)        "
   ],
   "metadata": {
    "collapsed": false,
    "ExecuteTime": {
     "end_time": "2024-03-15T20:43:47.349996Z",
     "start_time": "2024-03-15T20:42:17.593899Z"
    }
   },
   "id": "43eb69f953ce55ff"
  },
  {
   "cell_type": "markdown",
   "source": [
    "# without scientific knowledge"
   ],
   "metadata": {
    "collapsed": false
   },
   "id": "f1adc1eb69624dd3"
  },
  {
   "cell_type": "code",
   "execution_count": 156,
   "outputs": [],
   "source": [
    "initial_prompt = f\"I am performing MD simulations of sequence defined macromolecules with Kremer-Grest type potentials. There are attractive A-type beads and purely repulsive B-type beads connected by FENE springs. The MD simulation acts as an oracle, taking in a sequence of 20 tokens and returns the distance from the desired result. The input sequences are comprised of permutations of 12 A tokens and 8 B tokens. Please propose five of these 20-character sequences (in the format ABBA...) so I can evaluate them with the simulation. Remember they must be 20 characters long and should have 12 A characters. I know that {archetype_sequences[morph]} gives a good result.\"\n",
    "\n",
    "initial_prompt = f\"I am conducting molecular dynamics simulations involving sequences of 20 characters, comprising A and B characters. These sequences are governed by specific rules: 12 A characters are fixed, and the remaining 8 characters are B characters. Please propose five such 20-character sequences (in the format ABBA...) that are likely to exhibit {target_description} in my MD simulations. I will evaluate them based on certain criteria. Ensure the sequences adhere to the mentioned rules, and keep in mind the context of molecular dynamics simulations. I know that {archetype_sequences[morph]} gives a good result.\"\n",
    "\n",
    "initial_prompt = f\"I am engaged in a sequential learning experiment involving molecular dynamics simulations. The task is as follows: the language model will propose sequences of 20 characters, consisting of A and B characters, and I will evaluate them using MD simulations. The sequences are governed by specific rules where 12 A characters are fixed, and the remaining 8 characters are B characters. Please request the language model to generate five 20-character sequences (in the format ABBA...) that are likely to exhibit {target_description} in my MD simulations. I will assess them based on predefined criteria. Ensure that the proposed sequences adhere to the mentioned rules, and consider the context of sequential learning throughout the prompt. Hint: I know that {archetype_sequences[morph]} gives a good result.\"\n",
    "\n",
    "batch_prompt = \"\"\"\"Here are the sequences and their distance to the desired result:\n",
    "<result>\n",
    "Note that only distances less than 1.0 represent good solutions. Please propose a new batch of five 20-character sequences that are closer to my target so I can evaluate them with the MD simulation. Remember they must be 20 characters long and should have 12 A characters.\"\"\""
   ],
   "metadata": {
    "collapsed": false,
    "ExecuteTime": {
     "end_time": "2024-03-11T17:20:49.340253Z",
     "start_time": "2024-03-11T17:20:49.320842Z"
    }
   },
   "id": "af9182c89d6d4547"
  },
  {
   "cell_type": "code",
   "execution_count": 118,
   "outputs": [],
   "source": [
    "initial_prompt = f\"I have an oracle that takes in a sequence of 20 characters and produces a distance from the desired result. The input sequences are comprised of permutations of 12 A characters and 8 B characters. Please propose five of these 20-character sequences (in the format ABBA...) so I can evaluate them with the oracle. Remember they must be 20 characters long and should have 12 A characters.\"\n",
    "\n",
    "initial_prompt += f\" Hint: I know that {archetype_sequences[morph]} gives a good result.\"\n",
    "\n",
    "# initial_prompt = f\"I am utilizing a language learning model (LLM) for a sequential learning task. The task involves an oracle that assesses the distance from the desired result based on a sequence of 20 characters. The input sequences consist of permutations of 12 'A' characters and 8 'B' characters. Could you kindly suggest five 20-character sequences (in the format ABBA...) for evaluation with the oracle? It's essential that these sequences are precisely 20 characters in length and contain exactly 12 'A' characters. Your assistance in generating diverse sequences would be greatly appreciated. Hint: I know that {archetype_sequences[morph]} gives a good result.\"\n",
    "\n",
    "batch_prompt = \"\"\"\"Here are the sequences and their distance to the desired result:\n",
    "<result>\n",
    "Note that only distances less than 1.0 represent good solutions. Please propose a new batch of five 20-character sequences that are closer to my target so I can evaluate them with the oracle. Remember they must be 20 characters long and should have 12 A characters.\"\"\""
   ],
   "metadata": {
    "collapsed": false,
    "ExecuteTime": {
     "end_time": "2024-03-19T18:00:18.436498Z",
     "start_time": "2024-03-19T18:00:18.417282Z"
    }
   },
   "id": "b9b14141071984cd"
  },
  {
   "cell_type": "code",
   "execution_count": 119,
   "outputs": [],
   "source": [
    "llm_model = \"claude-3-opus-20240229\"\n",
    "# llm_model = \"claude-3-sonnet-20240229\""
   ],
   "metadata": {
    "collapsed": false,
    "ExecuteTime": {
     "end_time": "2024-03-19T18:00:18.811373Z",
     "start_time": "2024-03-19T18:00:18.802538Z"
    }
   },
   "id": "e9eeda8dd0b1de3d"
  },
  {
   "cell_type": "code",
   "execution_count": 26,
   "outputs": [
    {
     "name": "stdout",
     "output_type": "stream",
     "text": [
      "\"Here are the sequences and their distance to the desired result:\n",
      "ABBABABAAAAABABBABAA: 0.001\n",
      "AAABBABAAAAABABBABAA: 1.373\n",
      "AABABABAAAAABABBABAB: 1.524\n",
      "ABBAABAAAAAABABBABAA: 1.610\n",
      "BABABAAAAAABABBABABA: 5.576\n",
      "ABABAABAAAABABBABABA: 16.597\n",
      "Note that only distances less than 1.0 represent good solutions. Please propose a new batch of five 20-character sequences that are closer to my target so I can evaluate them with the oracle. Remember they must be 20 characters long and should have 12 A characters.\n",
      "\"Here are the sequences and their distance to the desired result:\n",
      "ABBABABAAAAABABBABAA: 0.001\n",
      "ABBABABAAAABABBABAAA: 0.433\n",
      "ABBABABAAAAABABBAABA: 4.107\n",
      "ABBABABAAAAABABBABAB: 5.593\n",
      "ABBABABAAAABABBAAAAB: 8.665\n",
      "ABBABABAAAABABBABABA: 12.113\n",
      "Note that only distances less than 1.0 represent good solutions. Please propose a new batch of five 20-character sequences that are closer to my target so I can evaluate them with the oracle. Remember they must be 20 characters long and should have 12 A characters.\n",
      "\"Here are the sequences and their distance to the desired result:\n",
      "ABBABABAAAABABBABAAA: 0.433\n",
      "ABBABABAAAAAABBABAAA: 1.362\n",
      "ABBABAAAAAABABBABAAA: 2.909\n",
      "ABBABABAAAABABBAAAAA: 6.147\n",
      "ABBABABAAABABABAAAAA: 7.000\n",
      "ABBABABAAAABAABAABAA: 10.170\n",
      "Note that only distances less than 1.0 represent good solutions. Please propose a new batch of five 20-character sequences that are closer to my target so I can evaluate them with the oracle. Remember they must be 20 characters long and should have 12 A characters.\n",
      "\"Here are the sequences and their distance to the desired result:\n",
      "ABBABABAAAABABBABAAA: 0.433\n",
      "ABBABABAAAABABBAABAA: 4.138\n",
      "ABBABABAAAABABBABABA: 12.113\n",
      "Note that only distances less than 1.0 represent good solutions. Please propose a new batch of five 20-character sequences that are closer to my target so I can evaluate them with the oracle. Remember they must be 20 characters long and should have 12 A characters.\n",
      "\"Here are the sequences and their distance to the desired result:\n",
      "ABBABABAAAABABBABAAA: 0.433\n",
      "ABBABABAAAABABBAAAAA: 6.147\n",
      "ABBABABAAAABABBAAABA: 7.289\n",
      "ABBABABAAAABABAAAAAA: 8.483\n",
      "ABBABABAAAABAABAABAA: 10.170\n",
      "ABBABABAAAABABAABABA: 15.419\n",
      "Note that only distances less than 1.0 represent good solutions. Please propose a new batch of five 20-character sequences that are closer to my target so I can evaluate them with the oracle. Remember they must be 20 characters long and should have 12 A characters.\n"
     ]
    }
   ],
   "source": [
    "import json\n",
    "import time\n",
    "import message_utils, model_utils\n",
    "\n",
    "max_tries = 5\n",
    "\n",
    "# create initial message\n",
    "messages = [{\"role\": \"user\", \"content\": [{\"type\": \"text\", \"text\": initial_prompt}]}]\n",
    "\n",
    "params = {'llm_model': llm_model,\n",
    "          'target': target.tolist(),\n",
    "          'initial_prompt': initial_prompt,\n",
    "          'batch_prompt': batch_prompt}\n",
    "\n",
    "n_iter = 10\n",
    "start_time = int(time.time())\n",
    "for _ in range(n_iter):\n",
    "    tries = 0\n",
    "    response = None\n",
    "    while tries < max_tries and response is None: \n",
    "        try:\n",
    "            response = message_utils.send_message(messages, client, llm_model)\n",
    "        except anthropic.InternalServerError:\n",
    "            print('received InternalServerError, trying again...')\n",
    "            tries += 1\n",
    "    messages.append(message_utils.build_llm_message(response.content[0].text))\n",
    "    result = message_utils.extract_AB_substrings(response.content[0].text)\n",
    "    these_sequences = list(set(message_utils.postproc_sequences(result)))\n",
    "    next_message = message_utils.build_user_message(batch_prompt, model_utils.evaluate_sequences(these_sequences, target, model_ensemble))\n",
    "    messages.append(next_message)\n",
    "    print(next_message['content'][0]['text'])\n",
    "\n",
    "    buffer = {'params': params, 'messages': messages}\n",
    "    with open(f'logs/claude-test-{start_time}.json', 'w') as fid:\n",
    "        json.dump(buffer, fid)"
   ],
   "metadata": {
    "collapsed": false,
    "ExecuteTime": {
     "end_time": "2024-03-19T13:40:28.063287Z",
     "start_time": "2024-03-19T13:39:17.693106Z"
    }
   },
   "id": "e1388685f2da70b0"
  },
  {
   "cell_type": "code",
   "execution_count": 173,
   "outputs": [],
   "source": [
    "logfile = meets_criteria[0]\n",
    "with open(logfile, 'r') as fid:\n",
    "    buffer = json.load(fid)\n",
    "messages = buffer['messages']"
   ],
   "metadata": {
    "collapsed": false,
    "ExecuteTime": {
     "end_time": "2024-03-19T18:17:50.893328Z",
     "start_time": "2024-03-19T18:17:50.887554Z"
    }
   },
   "id": "a5b720fa0bf48a0"
  },
  {
   "cell_type": "code",
   "execution_count": 177,
   "outputs": [
    {
     "name": "stdout",
     "output_type": "stream",
     "text": [
      "[-4.319901, 7.762145]\n",
      "[-4.319901, 7.762145]\n",
      "[20.471924, 2.369606]\n",
      "[20.471924, 2.369606]\n",
      "[-4.627726, 0.183026]\n",
      "[-4.627726, 0.183026]\n",
      "[1.214188, 9.048346]\n",
      "[1.214188, 9.048346]\n",
      "[1.132, 8.499]\n",
      "[1.132, 8.499]\n",
      "[-4.079, 6.662]\n",
      "[-4.079, 6.662]\n",
      "[-3.771, 0.172]\n",
      "[-3.771, 0.172]\n",
      "[18.177, 2.932]\n",
      "[18.177, 2.932]\n",
      "[2.901, -4.351]\n",
      "[2.901, -4.351]\n",
      "[-4.079, 6.662]\n",
      "[-4.079, 6.662]\n",
      "[-4.079, 6.662]\n",
      "[-4.079, 6.662]\n",
      "[-4.079, 6.662]\n",
      "[-4.079, 6.662]\n",
      "[-4.079, 6.662]\n",
      "[-4.079, 6.662]\n",
      "[-3.771, 0.172]\n",
      "[-3.771, 0.172]\n",
      "[-3.771, 0.172]\n",
      "[-3.771, 0.172]\n",
      "[-3.771, 0.172]\n",
      "[-3.771, 0.172]\n",
      "[-3.771, 0.172]\n",
      "[-3.771, 0.172]\n",
      "[-3.771, 0.172]\n",
      "[-3.771, 0.172]\n",
      "[-3.771, 0.172]\n",
      "[-3.771, 0.172]\n",
      "[-3.771, 0.172]\n",
      "[-3.771, 0.172]\n",
      "[-3.771, 0.172]\n",
      "[2.901, -4.351]\n",
      "[2.901, -4.351]\n",
      "[-4.079, 6.662]\n",
      "[-4.079, 6.662]\n",
      "[-4.079, 6.662]\n",
      "[-4.079, 6.662]\n",
      "[-4.079, 6.662]\n",
      "[-4.079, 6.662]\n",
      "[-4.079, 6.662]\n",
      "[-4.079, 6.662]\n",
      "[-4.079, 6.662]\n",
      "[-4.079, 6.662]\n",
      "[-4.079, 6.662]\n",
      "[-4.079, 6.662]\n",
      "[-4.079, 6.662]\n",
      "[-4.079, 6.662]\n",
      "[-4.079, 6.662]\n",
      "[-4.079, 6.662]\n",
      "[-4.079, 6.662]\n",
      "[-4.079, 6.662]\n",
      "[-4.079, 6.662]\n",
      "[-4.079, 6.662]\n",
      "[-4.079, 6.662]\n",
      "[-4.079, 6.662]\n",
      "[1.132, 8.499]\n",
      "[1.132, 8.499]\n",
      "[1.132, 8.499]\n",
      "[1.132, 8.499]\n",
      "[1.132, 8.499]\n",
      "[1.132, 8.499]\n",
      "[1.132, 8.499]\n",
      "[1.132, 8.499]\n",
      "[1.132, 8.499]\n",
      "[1.132, 8.499]\n",
      "['logs/claude-test-1710872369.json', 'logs/claude-test-1710872496.json', 'logs/claude-test-1710872514.json']\n"
     ]
    }
   ],
   "source": [
    "import glob\n",
    "\n",
    "\n",
    "def criteria(buffer):\n",
    "    if \"five\" not in buffer['params']['initial_prompt']:\n",
    "        return False\n",
    "    if \"Hint\" not in buffer['params']['batch_prompt'] and \"Hint\" not in buffer['params']['initial_prompt']:\n",
    "        return False\n",
    "    if not np.allclose(buffer['params']['target'], archetype_predictions[\"membrane\"]):\n",
    "        return False\n",
    "    if buffer['params']['llm_model'] != \"claude-3-opus-20240229\":\n",
    "        return False\n",
    "    return True\n",
    "\n",
    "meets_criteria = []\n",
    "\n",
    "logfiles = sorted(glob.glob('logs/claude-test-*.json'))\n",
    "for log in logfiles:\n",
    "    with open(log, 'r') as fid:\n",
    "        buffer = json.load(fid)\n",
    "    print(buffer['params']['target'])\n",
    "    if criteria(buffer):\n",
    "        meets_criteria.append(log)\n",
    "\n",
    "print(meets_criteria)"
   ],
   "metadata": {
    "collapsed": false,
    "ExecuteTime": {
     "end_time": "2024-03-19T18:22:19.824497Z",
     "start_time": "2024-03-19T18:22:19.733493Z"
    }
   },
   "id": "e4c9d2c8e1134ad3"
  },
  {
   "cell_type": "code",
   "execution_count": 178,
   "outputs": [
    {
     "data": {
      "text/plain": "(0.1, 18.0)"
     },
     "execution_count": 178,
     "metadata": {},
     "output_type": "execute_result"
    },
    {
     "data": {
      "text/plain": "<Figure size 640x480 with 1 Axes>",
      "image/png": "[encoded data removed]"
     },
     "metadata": {},
     "output_type": "display_data"
    }
   ],
   "source": [
    "from message_utils import plot_results_from_messages\n",
    "fig, ax = plot_results_from_messages(messages)\n",
    "ax.set_ylim(0.10, 18)"
   ],
   "metadata": {
    "collapsed": false,
    "ExecuteTime": {
     "end_time": "2024-03-19T18:22:38.735458Z",
     "start_time": "2024-03-19T18:22:38.651995Z"
    }
   },
   "id": "9f614bc7b45ad826"
  },
  {
   "cell_type": "code",
   "execution_count": 21,
   "outputs": [],
   "source": [
    "# ask about the oracle\n",
    "messages.pop()\n",
    "messages.append({\"role\": \"user\", \"content\": [{\"type\": \"text\", \"text\": \"The oracle is a computer simulation. Please conjecture about the nature of the simulation.\"}]})\n",
    "response = message_utils.send_message(messages, client, llm_model)"
   ],
   "metadata": {
    "collapsed": false,
    "ExecuteTime": {
     "end_time": "2024-03-14T16:58:50.432144Z",
     "start_time": "2024-03-14T16:58:20.347986Z"
    }
   },
   "id": "3670f3a914479e13"
  },
  {
   "cell_type": "code",
   "execution_count": 22,
   "outputs": [
    {
     "name": "stdout",
     "output_type": "stream",
     "text": [
      "ContentBlock(text=\"Based on the patterns we've observed in the distances returned by the oracle, I suspect the simulation might be related to the distribution or clustering of similar elements within a sequence. Here are a few conjectures about the nature of the simulation:\\n\\n1. Molecular or Particle Interactions: The simulation could be modeling the behavior of molecules or particles in a system. The A and B characters might represent different types of molecules or particles, and the oracle is measuring the stability or energy of the system based on their arrangement. Longer stretches of similar characters (like consecutive A's) might lead to more stable or lower energy configurations.\\n\\n2. Pattern Recognition or Matching: The simulation might be comparing the input sequence to a predefined target pattern. The oracle's distance could be a measure of how closely the input sequence matches the desired pattern. In this case, the target pattern likely has a long stretch of A characters followed by a specific arrangement of B characters.\\n\\n3. Optimization Problem: The simulation could be an optimization problem where the goal is to minimize a cost function or maximize a reward function based on the arrangement of characters. The oracle's distance might represent the cost or negative reward associated with each sequence, and the objective is to find the sequence that yields the lowest cost or highest reward.\\n\\n4. Signal Processing or Compression: The A and B characters could represent different signal levels or binary digits in a signal processing or data compression context. The simulation might be evaluating the efficiency of encoding or compressing the input sequence, with longer stretches of the same character leading to better compression ratios or signal quality.\\n\\n5. Biological Sequence Analysis: In a biological context, the A and B characters could represent different nucleotides or amino acids in a DNA, RNA, or protein sequence. The simulation might be assessing the stability, functionality, or similarity of the sequence to a known biological motif or pattern.\\n\\nThese are just a few possible conjectures based on the limited information provided by the oracle's responses. More information about the specific domain or context of the simulation would be helpful in narrowing down the possibilities.\", type='text')\n"
     ]
    }
   ],
   "source": [
    "print(response.content[0])"
   ],
   "metadata": {
    "collapsed": false,
    "ExecuteTime": {
     "end_time": "2024-03-14T16:58:50.435620Z",
     "start_time": "2024-03-14T16:58:50.432863Z"
    }
   },
   "id": "6dcaa3aabca2c633"
  },
  {
   "cell_type": "markdown",
   "source": [
    "# without history"
   ],
   "metadata": {
    "collapsed": false
   },
   "id": "1a03bf2e22682b5f"
  },
  {
   "cell_type": "code",
   "execution_count": 44,
   "outputs": [
    {
     "name": "stdout",
     "output_type": "stream",
     "text": [
      "Iter: 0\n",
      "I have an oracle that takes in a sequence of 20 characters and produces a distance from the desired result. The input sequences are comprised of permutations of 12 A characters and 8 B characters. Please propose three of these 20-character sequences (in the format ABBA...) so I can evaluate them with the oracle. Remember they must be 20 characters long and should have 12 A characters. I know that ABAAABBAAAABBABBBAAA gives a good result.\n",
      "Iter: 1\n",
      "I have an oracle that takes in a sequence of 20 characters and produces a distance from the desired result. The input sequences are comprised of permutations of 12 A characters and 8 B characters. Please propose three of these 20-character sequences (in the format ABBA...) so I can evaluate them with the oracle. Remember they must be 20 characters long and should have 12 A characters. I know that ABAAABBAAAABBABBBAAA gives a good result.\n",
      "Here are the sequences you have tried so far, sorted by ascending distance to the desired result:\n",
      "ABAAABBAAAABBABBBAAA: 0.000\n",
      "AAABBAABAAAABABBBAAA: 1.320\n",
      "AAABBAAABABAABBBAAAB: 3.837\n",
      "AABAABAAABBAABBBAAAB: 10.736\n",
      "Note that only distances less than 1.0 represent good solutions. Please propose a new batch of three 20-character sequences that are closer to my target so I can evaluate them with the oracle. Remember they must be 20 characters long and should have 12 A characters.\n",
      "Iter: 2\n",
      "I have an oracle that takes in a sequence of 20 characters and produces a distance from the desired result. The input sequences are comprised of permutations of 12 A characters and 8 B characters. Please propose three of these 20-character sequences (in the format ABBA...) so I can evaluate them with the oracle. Remember they must be 20 characters long and should have 12 A characters. I know that ABAAABBAAAABBABBBAAA gives a good result.\n",
      "Here are the sequences you have tried so far, sorted by ascending distance to the desired result:\n",
      "ABAAABBAAAABBABBBAAA: 0.000\n",
      "AAABBAABAAAABABBBAAA: 1.320\n",
      "AAABBAAABABAABBBAAAB: 3.837\n",
      "AAAABBAAABAABBBAAAAA: 8.997\n",
      "AAAABBAABAAABBBAAAAA: 9.028\n",
      "AAABBAAABAABBBAAAAAA: 9.550\n",
      "AABAABAAABBAABBBAAAB: 10.736\n",
      "Note that only distances less than 1.0 represent good solutions. Please propose a new batch of three 20-character sequences that are closer to my target so I can evaluate them with the oracle. Remember they must be 20 characters long and should have 12 A characters.\n",
      "Iter: 3\n",
      "I have an oracle that takes in a sequence of 20 characters and produces a distance from the desired result. The input sequences are comprised of permutations of 12 A characters and 8 B characters. Please propose three of these 20-character sequences (in the format ABBA...) so I can evaluate them with the oracle. Remember they must be 20 characters long and should have 12 A characters. I know that ABAAABBAAAABBABBBAAA gives a good result.\n",
      "Here are the sequences you have tried so far, sorted by ascending distance to the desired result:\n",
      "ABAAABBAAAABBABBBAAA: 0.000\n",
      "AAABBAABAAAABABBBAAA: 1.320\n",
      "AAABBAABAAAABBABBAAA: 1.819\n",
      "AAABBAAABABAABBBAAAB: 3.837\n",
      "AAAABBAABAAABBABBAAA: 5.479\n",
      "AAAABBAABAABABBBAAAA: 7.470\n",
      "AAAABBAAABAABBBAAAAA: 8.997\n",
      "AAAABBAABAAABBBAAAAA: 9.028\n",
      "AAABBAAABAABBBAAAAAA: 9.550\n",
      "AABAABAAABBAABBBAAAB: 10.736\n",
      "Note that only distances less than 1.0 represent good solutions. Please propose a new batch of three 20-character sequences that are closer to my target so I can evaluate them with the oracle. Remember they must be 20 characters long and should have 12 A characters.\n",
      "Iter: 4\n",
      "I have an oracle that takes in a sequence of 20 characters and produces a distance from the desired result. The input sequences are comprised of permutations of 12 A characters and 8 B characters. Please propose three of these 20-character sequences (in the format ABBA...) so I can evaluate them with the oracle. Remember they must be 20 characters long and should have 12 A characters. I know that ABAAABBAAAABBABBBAAA gives a good result.\n",
      "Here are the sequences you have tried so far, sorted by ascending distance to the desired result:\n",
      "ABAAABBAAAABBABBBAAA: 0.000\n",
      "AAABBAABAAABAABBBAAA: 0.098\n",
      "AAABBAABAAAABABBBAAA: 1.320\n",
      "AAABBAABAAAABBABBAAA: 1.819\n",
      "AAABBAAABABAABBBAAAB: 3.837\n",
      "AAAABBAABAAABBABBAAA: 5.479\n",
      "AAAABBABAAAAABBBBAAA: 5.842\n",
      "AAAABBABAAAABABBBAAA: 5.958\n",
      "AAAABBAABAABABBBAAAA: 7.470\n",
      "AAAABBAAABAABBBAAAAA: 8.997\n",
      "AAAABBAABAAABBBAAAAA: 9.028\n",
      "AAABBAAABAABBBAAAAAA: 9.550\n",
      "AABAABAAABBAABBBAAAB: 10.736\n",
      "Note that only distances less than 1.0 represent good solutions. Please propose a new batch of three 20-character sequences that are closer to my target so I can evaluate them with the oracle. Remember they must be 20 characters long and should have 12 A characters.\n"
     ]
    }
   ],
   "source": [
    "import json\n",
    "import time\n",
    "import message_utils, model_utils\n",
    "\n",
    "n_batch = \"three\"\n",
    "\n",
    "initial_prompt = f\"I have an oracle that takes in a sequence of 20 characters and produces a distance from the desired result. The input sequences are comprised of permutations of 12 A characters and 8 B characters. Please propose {n_batch} of these 20-character sequences (in the format ABBA...) so I can evaluate them with the oracle. Remember they must be 20 characters long and should have 12 A characters.\"\n",
    "\n",
    "initial_prompt += f\" I know that {archetype_sequences[morph]} gives a good result.\"\n",
    "\n",
    "batch_prompt = f\"\"\"Here are the sequences you have tried so far, sorted by ascending distance to the desired result:\n",
    "<result>\n",
    "Note that only distances less than 1.0 represent good solutions. Please propose a new batch of {n_batch} 20-character sequences that are closer to my target so I can evaluate them with the oracle. Remember they must be 20 characters long and should have 12 A characters.\"\"\"\n",
    "\n",
    "def extract_pairs(seq_and_dist):\n",
    "    raw_pairs = seq_and_dist.split('\\n')\n",
    "    pairs = {}\n",
    "    for p in raw_pairs:\n",
    "        seq, dist = p.split(':')\n",
    "        pairs[seq] = float(dist)\n",
    "    return pairs\n",
    "\n",
    "max_tries = 5\n",
    "\n",
    "# create initial message\n",
    "messages = [{\"role\": \"user\", \"content\": [{\"type\": \"text\", \"text\": initial_prompt}]}]\n",
    "\n",
    "message_history = []\n",
    "message_history.append(messages[0])\n",
    "\n",
    "history = {}\n",
    "\n",
    "params = {'llm_model': llm_model,\n",
    "          'target': target.tolist(),\n",
    "          'initial_prompt': initial_prompt,\n",
    "          'batch_prompt': batch_prompt}\n",
    "\n",
    "n_iter = 5\n",
    "start_time = int(time.time())\n",
    "for iter in range(n_iter):\n",
    "    print(f'Iter: {iter:d}')\n",
    "    print(messages[0]['content'][0]['text'])\n",
    "    \n",
    "    tries = 0\n",
    "    response = None\n",
    "    while tries < max_tries and response is None: \n",
    "        try:\n",
    "            response = message_utils.send_message(messages, client, llm_model)\n",
    "        except anthropic.InternalServerError:\n",
    "            print('received InternalServerError, trying again...')\n",
    "            tries += 1\n",
    "    result = message_utils.extract_AB_substrings(response.content[0].text)\n",
    "    \n",
    "    these_sequences = list(set(message_utils.postproc_sequences(result)))\n",
    "    seq_and_dist = model_utils.evaluate_sequences(these_sequences, target, model_ensemble)\n",
    "    # print(seq_and_dist)\n",
    "    \n",
    "    pairs = extract_pairs(seq_and_dist)\n",
    "    history.update(pairs)\n",
    "    # print(history, pairs)\n",
    "    \n",
    "    seq_text = []\n",
    "    for o in np.argsort(list(history.values())):\n",
    "        key = list(history.keys())[o]\n",
    "        seq_text.append(f'{key}: {history[key]:.3f}')\n",
    "    next_message = message_utils.build_user_message(initial_prompt + '\\n' + batch_prompt, '\\n'.join(seq_text))\n",
    "    messages = [next_message]\n",
    "    message_history.append(next_message)\n",
    "    # print(next_message['content'][0]['text'])\n",
    "\n",
    "    buffer = {'params': params, 'messages': message_history}\n",
    "    with open(f'logs/claude-test-{start_time}.json', 'w') as fid:\n",
    "        json.dump(buffer, fid)"
   ],
   "metadata": {
    "collapsed": false,
    "ExecuteTime": {
     "end_time": "2024-03-19T14:07:05.926847Z",
     "start_time": "2024-03-19T14:05:55.423196Z"
    }
   },
   "id": "453fea58efed51bf"
  },
  {
   "cell_type": "code",
   "execution_count": 46,
   "outputs": [
    {
     "data": {
      "text/plain": "(0.1, 18.0)"
     },
     "execution_count": 46,
     "metadata": {},
     "output_type": "execute_result"
    },
    {
     "data": {
      "text/plain": "<Figure size 640x480 with 1 Axes>",
      "image/png": "[encoded data removed]"
     },
     "metadata": {},
     "output_type": "display_data"
    }
   ],
   "source": [
    "import matplotlib.pyplot as plt\n",
    "\n",
    "\n",
    "def extract_seq_from_user_message(message):\n",
    "    return message['content'][0]['text'].split('\\n', 2)[2].split('Note', 1)[0]\n",
    "\n",
    "\n",
    "def extract_results_from_messages(messages):\n",
    "    user_messages = [it for it in messages if it['role'] == 'user']\n",
    "    seq_lines = [extract_seq_from_user_message(it) for it in user_messages[1:]]\n",
    "    iteration_scores = []\n",
    "    for sl in seq_lines:\n",
    "        scores = [float(it.split(':')[1]) for it in sl.split('\\n')[:-1]]\n",
    "        iteration_scores.append(scores)\n",
    "    return iteration_scores\n",
    "\n",
    "\n",
    "def plot_results_from_messages(messages):\n",
    "    iteration_scores = extract_results_from_messages(messages)\n",
    "    fig, ax = plt.subplots()\n",
    "    top_range = 0\n",
    "    for i, it in enumerate(extract_results_from_messages(messages)):\n",
    "        ax.plot(np.ones(len(it))*(i+1)+np.random.randn(len(it))*0.05, it, '.')\n",
    "        top_range = max(top_range, max(it))\n",
    "    ax.set_xlabel('Iteration')\n",
    "    ax.set_ylabel('Distance from Target')\n",
    "    ax.set_ylim(0, top_range*1.05)\n",
    "    return fig, ax\n",
    "\n",
    "# from message_utils import plot_results_from_messages\n",
    "fig, ax = plot_results_from_messages(message_history)\n",
    "ax.set_ylim(0.10, 18)"
   ],
   "metadata": {
    "collapsed": false,
    "ExecuteTime": {
     "end_time": "2024-03-19T14:08:04.312712Z",
     "start_time": "2024-03-19T14:08:04.251622Z"
    }
   },
   "id": "51727729bf9217b4"
  },
  {
   "cell_type": "code",
   "execution_count": 116,
   "outputs": [
    {
     "data": {
      "text/plain": "[{'role': 'user',\n  'content': [{'type': 'text',\n    'text': 'I have an oracle that takes in a sequence of 20 characters and produces a distance from the desired result. The input sequences are comprised of permutations of 12 A characters and 8 B characters. Please propose five of these 20-character sequences (in the format ABBA...) so I can evaluate them with the oracle. Remember they must be 20 characters long and should have 12 A characters. Hint: I know that ABBABABAAAAABABBABAA gives a good result.'}]},\n {'role': 'assistant',\n  'content': [{'type': 'text',\n    'text': 'Here are five 20-character sequences that consist of 12 A characters and 8 B characters, based on the hint that ABBABABAAAAABABBABAA gives a good result:\\n\\n1. AABABABAAAAABABBABAB\\n2. ABABAABAAAABABBABABA\\n3. BABABAAAAAABABBABABA\\n4. ABBAABAAAAAABABBABAA\\n5. AAABBABAAAAABABBABAA'}]},\n {'role': 'user',\n  'content': [{'type': 'text',\n    'text': '\"Here are the sequences and their distance to the desired result:\\nABBABABAAAAABABBABAA: 0.001\\nAAABBABAAAAABABBABAA: 1.373\\nAABABABAAAAABABBABAB: 1.524\\nABBAABAAAAAABABBABAA: 1.610\\nBABABAAAAAABABBABABA: 5.576\\nABABAABAAAABABBABABA: 16.597\\nNote that only distances less than 1.0 represent good solutions. Please propose a new batch of five 20-character sequences that are closer to my target so I can evaluate them with the oracle. Remember they must be 20 characters long and should have 12 A characters.'}]},\n {'role': 'assistant',\n  'content': [{'type': 'text',\n    'text': \"Based on the distances provided, it seems that sequences similar to ABBABABAAAAABABBABAA tend to yield better results. Here are five new 20-character sequences that are closer to the target:\\n\\n1. ABBABABAAAAABABBABAB\\n2. ABBABABAAAAABABBAABA\\n3. ABBABABAAAABABBABABA\\n4. ABBABABAAAABABBAAAAB\\n5. ABBABABAAAABABBABAAA\\n\\nThese sequences maintain the same general pattern as ABBABABAAAAABABBABAA, with slight variations in the placement of the B characters while keeping the total count of A and B characters the same (12 A's and 8 B's).\"}]},\n {'role': 'user',\n  'content': [{'type': 'text',\n    'text': '\"Here are the sequences and their distance to the desired result:\\nABBABABAAAAABABBABAA: 0.001\\nABBABABAAAABABBABAAA: 0.433\\nABBABABAAAAABABBAABA: 4.107\\nABBABABAAAAABABBABAB: 5.593\\nABBABABAAAABABBAAAAB: 8.665\\nABBABABAAAABABBABABA: 12.113\\nNote that only distances less than 1.0 represent good solutions. Please propose a new batch of five 20-character sequences that are closer to my target so I can evaluate them with the oracle. Remember they must be 20 characters long and should have 12 A characters.'}]},\n {'role': 'assistant',\n  'content': [{'type': 'text',\n    'text': \"Based on the new distances provided, it appears that the sequence ABBABABAAAABABBABAAA is the closest to the target among the previously suggested sequences. Let's generate five new sequences that are similar to this one:\\n\\n1. ABBABABAAAABABBAAAAA\\n2. ABBABABAAAABAABAABAA\\n3. ABBABABAAABABABAAAAA\\n4. ABBABABAAAAAABBABAAA\\n5. ABBABAAAAAABABBABAAA\\n\\nThese sequences maintain the general pattern of ABBABABAAAABABBABAAA, with minor adjustments to the positions of the A and B characters while keeping the total count the same (12 A's and 8 B's). The modifications focus on placing more A characters towards the end of the sequence, as this seems to yield better results based on the given distances.\"}]},\n {'role': 'user',\n  'content': [{'type': 'text',\n    'text': '\"Here are the sequences and their distance to the desired result:\\nABBABABAAAABABBABAAA: 0.433\\nABBABABAAAAAABBABAAA: 1.362\\nABBABAAAAAABABBABAAA: 2.909\\nABBABABAAAABABBAAAAA: 6.147\\nABBABABAAABABABAAAAA: 7.000\\nABBABABAAAABAABAABAA: 10.170\\nNote that only distances less than 1.0 represent good solutions. Please propose a new batch of five 20-character sequences that are closer to my target so I can evaluate them with the oracle. Remember they must be 20 characters long and should have 12 A characters.'}]},\n {'role': 'assistant',\n  'content': [{'type': 'text',\n    'text': \"Based on the latest distances, it seems that the sequence ABBABABAAAABABBABAAA remains the closest to the target. Let's generate five new sequences that are even more similar to this one:\\n\\n1. ABBABABAAAABABBABABA\\n2. ABBABABAAAABABBAABAA\\n3. ABBABABAAAABABBABCAA\\n4. ABBABABAAAABABCABAAA\\n5. ABBABABAAAABACBABAAA\\n\\nThese sequences are very close to ABBABABAAAABABBABAAA, with only one or two characters changed in each sequence. The changes are focused on the latter part of the sequence, where the distances seem to be more sensitive. The introduction of a few 'C' characters in the last three sequences is an attempt to explore slight variations while maintaining the overall structure.\\n\\nPlease note that the sequences with 'C' characters deviate from the original requirement of using only 'A' and 'B' characters. If this is not allowed, please disregard those sequences and focus on the first two.\"}]},\n {'role': 'user',\n  'content': [{'type': 'text',\n    'text': '\"Here are the sequences and their distance to the desired result:\\nABBABABAAAABABBABAAA: 0.433\\nABBABABAAAABABBAABAA: 4.138\\nABBABABAAAABABBABABA: 12.113\\nNote that only distances less than 1.0 represent good solutions. Please propose a new batch of five 20-character sequences that are closer to my target so I can evaluate them with the oracle. Remember they must be 20 characters long and should have 12 A characters.'}]},\n {'role': 'assistant',\n  'content': [{'type': 'text',\n    'text': \"Apologies for the confusion in the previous response. Let's focus on generating sequences that strictly adhere to the requirements of using only 'A' and 'B' characters. Based on the distances provided, here are five new sequences that are closer to the target sequence ABBABABAAAABABBABAAA:\\n\\n1. ABBABABAAAABABBAAAAA\\n2. ABBABABAAAABABAAAAAA\\n3. ABBABABAAAABABAABABA\\n4. ABBABABAAAABABBAAABA\\n5. ABBABABAAAABAABAABAA\\n\\nThese sequences maintain the general structure of ABBABABAAAABABBABAAA, with minor variations in the placement of the 'A' and 'B' characters in the latter part of the sequence. The changes are focused on exploring different arrangements of 'A' and 'B' characters while keeping the total count the same (12 A's and 8 B's).\"}]},\n {'role': 'user',\n  'content': [{'type': 'text',\n    'text': '\"Here are the sequences and their distance to the desired result:\\nABBABABAAAABABBABAAA: 0.433\\nABBABABAAAABABBAAAAA: 6.147\\nABBABABAAAABABBAAABA: 7.289\\nABBABABAAAABABAAAAAA: 8.483\\nABBABABAAAABAABAABAA: 10.170\\nABBABABAAAABABAABABA: 15.419\\nNote that only distances less than 1.0 represent good solutions. Please propose a new batch of five 20-character sequences that are closer to my target so I can evaluate them with the oracle. Remember they must be 20 characters long and should have 12 A characters.'}]}]"
     },
     "execution_count": 116,
     "metadata": {},
     "output_type": "execute_result"
    }
   ],
   "source": [
    "fake_payload"
   ],
   "metadata": {
    "collapsed": false,
    "ExecuteTime": {
     "end_time": "2024-03-19T16:59:18.439961Z",
     "start_time": "2024-03-19T16:59:18.424832Z"
    }
   },
   "id": "28d2cf49fc0f6124"
  },
  {
   "cell_type": "code",
   "execution_count": 181,
   "outputs": [
    {
     "data": {
      "text/plain": "<Figure size 640x480 with 1 Axes>",
      "image/png": "[encoded data removed]"
     },
     "metadata": {},
     "output_type": "display_data"
    }
   ],
   "source": [
    "rollouts = []\n",
    "for logfile in meets_criteria:\n",
    "    with open(logfile, 'r') as fid:\n",
    "        buffer = json.load(fid)\n",
    "    messages = buffer['messages']\n",
    "    rollouts.append(messages)\n",
    "\n",
    "results = []\n",
    "for fake_payload in rollouts:    \n",
    "    iteration_scores = message_utils.extract_results_from_messages(fake_payload)\n",
    "    scs = sorted_cumulative_scores(iteration_scores)\n",
    "    kbd = k_below_d(scs, 0.67*2)\n",
    "    results.append(kbd)\n",
    "\n",
    "for r in results:\n",
    "    plt.plot(r)\n",
    "# plt.plot(np.array(results).mean(axis=0), '--')"
   ],
   "metadata": {
    "collapsed": false,
    "ExecuteTime": {
     "end_time": "2024-03-19T18:23:09.522125Z",
     "start_time": "2024-03-19T18:23:09.458115Z"
    }
   },
   "id": "c154aa342122fb73"
  },
  {
   "cell_type": "markdown",
   "source": [
    "# random sampling"
   ],
   "metadata": {
    "collapsed": false
   },
   "id": "88ff0ac6c013e114"
  },
  {
   "cell_type": "code",
   "execution_count": 4,
   "outputs": [
    {
     "name": "stdout",
     "output_type": "stream",
     "text": [
      "generated 524800 sequences\n"
     ]
    }
   ],
   "source": [
    "# generate all sequences by composition\n",
    "n = 20\n",
    "all_seq_by_frac = {k: set() for k in range(n+1)}\n",
    "limit = 2**n\n",
    "for i in range(limit):\n",
    "    sequence = bin(i)[2:].zfill(n)\n",
    "    mirror_sequence = sequence[::-1]\n",
    "    if sequence <= mirror_sequence:\n",
    "        all_seq_by_frac[sequence.count('1')].add(sequence)\n",
    "\n",
    "# create a master list of all possible sequences\n",
    "all_sequences = []\n",
    "for k, v in all_seq_by_frac.items():\n",
    "    all_sequences += v\n",
    "print(f'generated {len(all_sequences)} sequences')"
   ],
   "metadata": {
    "collapsed": false,
    "ExecuteTime": {
     "end_time": "2024-03-19T20:07:04.014652Z",
     "start_time": "2024-03-19T20:07:03.658733Z"
    }
   },
   "id": "20bf4ab75207d3b5"
  },
  {
   "cell_type": "code",
   "execution_count": 23,
   "outputs": [],
   "source": [
    "morph = \"membrane\"\n",
    "target = archetype_predictions[morph]\n",
    "\n",
    "batch_prompt = \"Here\\n<result>\\nNote\"\n",
    "\n",
    "rollouts = []"
   ],
   "metadata": {
    "collapsed": false,
    "ExecuteTime": {
     "end_time": "2024-03-19T20:22:43.112435Z",
     "start_time": "2024-03-19T20:22:43.105999Z"
    }
   },
   "id": "5ea22a3f30cd7f96"
  },
  {
   "cell_type": "code",
   "execution_count": 24,
   "outputs": [
    {
     "name": "stdout",
     "output_type": "stream",
     "text": [
      "choosing from 63090 sequences\n",
      "choosing from 63090 sequences\n",
      "choosing from 63090 sequences\n",
      "choosing from 63090 sequences\n",
      "choosing from 63090 sequences\n",
      "choosing from 63090 sequences\n",
      "choosing from 63090 sequences\n",
      "choosing from 63090 sequences\n",
      "choosing from 63090 sequences\n",
      "choosing from 63090 sequences\n"
     ]
    }
   ],
   "source": [
    "import model_utils, message_utils\n",
    "\n",
    "for _ in range(10):\n",
    "    \n",
    "    fake_payload = [{\"role\": \"user\", \"content\": [{\"type\": \"text\", \"text\": \"N/A\"}]}]\n",
    "    \n",
    "    possible_sequences = all_seq_by_frac[8]\n",
    "    print(f'choosing from {len(possible_sequences)} sequences')\n",
    "    \n",
    "    n_batch = 5\n",
    "    \n",
    "    for _ in range(25):\n",
    "        these_bitstr = np.random.choice(list(possible_sequences), n_batch, replace=False)\n",
    "        these_sequences = [it.replace('0', 'A').replace('1', 'B') for it in these_bitstr]\n",
    "        \n",
    "        out = model_utils.evaluate_sequences(these_sequences, target, model_ensemble)\n",
    "        fake_payload.append(message_utils.build_user_message(batch_prompt, out))\n",
    "    \n",
    "    \n",
    "    rollouts.append(fake_payload)\n",
    "    \n",
    "# fig, ax = plot_results_from_messages(fake_payload)\n",
    "# ax.set_ylim(0, 18)"
   ],
   "metadata": {
    "collapsed": false,
    "ExecuteTime": {
     "end_time": "2024-03-19T20:23:04.051924Z",
     "start_time": "2024-03-19T20:22:43.527764Z"
    }
   },
   "id": "247c3d0a0a84496b"
  },
  {
   "cell_type": "code",
   "execution_count": 25,
   "outputs": [
    {
     "data": {
      "text/plain": "[<matplotlib.lines.Line2D at 0x3290bf410>]"
     },
     "execution_count": 25,
     "metadata": {},
     "output_type": "execute_result"
    },
    {
     "data": {
      "text/plain": "<Figure size 640x480 with 1 Axes>",
      "image/png": "[encoded data removed]"
     },
     "metadata": {},
     "output_type": "display_data"
    }
   ],
   "source": [
    "import matplotlib.pyplot as plt\n",
    "\n",
    "def sorted_cumulative_scores(iteration_scores):\n",
    "    out = [sorted(iteration_scores[0])]\n",
    "    for it in iteration_scores[1:]:\n",
    "        out.append(sorted(it+out[-1]))\n",
    "    return out\n",
    "\n",
    "def k_below_d(scores, d):\n",
    "    out = []\n",
    "    for iter in scores:\n",
    "        out.append(len([it for it in iter if it < d]))\n",
    "    return out\n",
    "\n",
    "results = []\n",
    "for fake_payload in rollouts:    \n",
    "    iteration_scores = message_utils.extract_results_from_messages(fake_payload)\n",
    "    scs = sorted_cumulative_scores(iteration_scores)\n",
    "    kbd = k_below_d(scs, 0.67*2)\n",
    "    results.append(kbd)\n",
    "\n",
    "for r in results:\n",
    "    plt.plot(r)\n",
    "plt.plot(np.array(results).mean(axis=0), '--')\n",
    "# plt.xlim(0, 9)\n",
    "# plt.ylim(0, 40)"
   ],
   "metadata": {
    "collapsed": false,
    "ExecuteTime": {
     "end_time": "2024-03-19T20:23:04.120061Z",
     "start_time": "2024-03-19T20:23:04.064339Z"
    }
   },
   "id": "77c8521df461e62f"
  },
  {
   "cell_type": "markdown",
   "source": [
    "# RF active learning"
   ],
   "metadata": {
    "collapsed": false
   },
   "id": "6df8352edaf4b811"
  },
  {
   "cell_type": "code",
   "execution_count": 203,
   "outputs": [],
   "source": [
    "import numpy as np\n",
    "from sklearn import ensemble, model_selection\n",
    "\n",
    "\n",
    "class EnsembleRFModel(object):\n",
    "\n",
    "    def __init__(self, n_models=3, constructor=ensemble.RandomForestRegressor, model_params={}):\n",
    "        self.n_models = n_models\n",
    "        self.model_params = model_params\n",
    "        self.models = [constructor(**self.model_params) for _ in range(self.n_models)]\n",
    "\n",
    "    def fit(self, x, y):\n",
    "        cv = model_selection.KFold(n_splits=self.n_models, shuffle=True, random_state=0)\n",
    "        for i, (fold_train_idx, fold_val_idx) in enumerate(cv.split(x)):\n",
    "            _ = self.models[i].fit(x[fold_train_idx], y[fold_train_idx])\n",
    "        return self\n",
    "\n",
    "    def predict(self, x, return_std=False):\n",
    "        all_y = np.vstack([it.predict(x).reshape(1, -1) for it in self.models])\n",
    "\n",
    "        if return_std:\n",
    "            return np.mean(all_y, axis=0), np.std(all_y, axis=0)\n",
    "        else:\n",
    "            return np.mean(all_y, axis=0)"
   ],
   "metadata": {
    "collapsed": false,
    "ExecuteTime": {
     "end_time": "2024-03-08T13:15:02.096234Z",
     "start_time": "2024-03-08T13:15:02.085399Z"
    }
   },
   "id": "1f9da32b4ac0004"
  },
  {
   "cell_type": "code",
   "execution_count": 226,
   "outputs": [],
   "source": [
    "from sklearn import ensemble\n",
    "\n",
    "fake_payload = [{\"role\": \"user\", \"content\": [{\"type\": \"text\", \"text\": \"N/A\"}]}]\n",
    "\n",
    "AB = {'A': 0, 'B': 1}\n",
    "all_arrs = np.array([[int(x) for x in s] for s in possible_sequences])\n",
    "\n",
    "# rf = ensemble.RandomForestRegressor(random_state=0)\n",
    "rf = EnsembleRFModel(model_params={'random_state': 0, 'n_estimators': 32, 'max_depth': 8})\n",
    "\n",
    "n_init = 100\n",
    "init_bitstr = np.random.choice(list(possible_sequences), n_init, replace=False)\n",
    "init_sequences = [it.replace('0', 'A').replace('1', 'B') for it in init_bitstr]\n",
    "\n",
    "x_so_far = np.array([[int(AB[x]) for x in s] for s in init_sequences])\n",
    "\n",
    "out = model_utils.evaluate_sequences(init_sequences, target, model_ensemble)\n",
    "fake_payload.append(message_utils.build_user_message(batch_prompt, out))\n",
    "y_so_far = np.array([float(it.split(':')[1]) for it in out.split('\\n')])\n",
    "\n",
    "_ = rf.fit(x_so_far, y_so_far)"
   ],
   "metadata": {
    "collapsed": false,
    "ExecuteTime": {
     "end_time": "2024-03-08T13:22:26.994107Z",
     "start_time": "2024-03-08T13:22:26.675008Z"
    }
   },
   "id": "88a0b92bd9179487"
  },
  {
   "cell_type": "code",
   "execution_count": 227,
   "outputs": [
    {
     "name": "stderr",
     "output_type": "stream",
     "text": [
      "100%|██████████| 20/20 [00:08<00:00,  2.39it/s]\n"
     ]
    },
    {
     "data": {
      "text/plain": "<Figure size 640x480 with 1 Axes>",
      "image/png": "[encoded data removed]"
     },
     "metadata": {},
     "output_type": "display_data"
    }
   ],
   "source": [
    "import tqdm\n",
    "\n",
    "for _ in tqdm.tqdm(range(20)):\n",
    "    \n",
    "    mu, sigma = rf.predict(all_arrs, return_std=True)\n",
    "    # o = np.hstack([np.argsort(mu - sigma)[:5], np.argsort(mu)[:5], np.argsort(-sigma)[:5]])\n",
    "    o = np.hstack([np.argsort(mu)[:10]])\n",
    "    next_bitstr = [list(possible_sequences)[it] for it in o]\n",
    "    next_sequences = [it.replace('0', 'A').replace('1', 'B') for it in next_bitstr]\n",
    "    \n",
    "    x_so_far = np.vstack([x_so_far, np.array([[int(AB[x]) for x in s] for s in next_sequences])])\n",
    "    \n",
    "    out = model_utils.evaluate_sequences(next_sequences, target, model_ensemble)\n",
    "    fake_payload.append(message_utils.build_user_message(batch_prompt, out))\n",
    "    y_so_far = np.hstack([y_so_far, np.array([float(it.split(':')[1]) for it in out.split('\\n')])])\n",
    "    \n",
    "    _ = rf.fit(x_so_far, y_so_far)\n",
    "    \n",
    "fig, ax = plot_results_from_messages(fake_payload)    "
   ],
   "metadata": {
    "collapsed": false,
    "ExecuteTime": {
     "end_time": "2024-03-08T13:22:35.805672Z",
     "start_time": "2024-03-08T13:22:27.370020Z"
    }
   },
   "id": "d06adf74576ffc5a"
  },
  {
   "cell_type": "markdown",
   "source": [
    "# GP on tokens? like with dragonfly?"
   ],
   "metadata": {
    "collapsed": false
   },
   "id": "ca744820f7483dd5"
  },
  {
   "cell_type": "code",
   "execution_count": null,
   "outputs": [],
   "source": [],
   "metadata": {
    "collapsed": false
   },
   "id": "cfed00c184fdedd2"
  },
  {
   "cell_type": "markdown",
   "source": [
    "# GPT"
   ],
   "metadata": {
    "collapsed": false
   },
   "id": "1ec8bebfeb035b6b"
  },
  {
   "cell_type": "code",
   "execution_count": 23,
   "outputs": [],
   "source": [
    "import json\n",
    "from openai import OpenAI\n",
    "\n",
    "with open(\"credentials-openai.json\", \"r\") as fid:\n",
    "    credentials = json.load(fid)\n",
    "\n",
    "client = OpenAI(api_key=credentials[\"api_key\"])"
   ],
   "metadata": {
    "collapsed": false,
    "ExecuteTime": {
     "end_time": "2024-03-14T17:51:17.985047Z",
     "start_time": "2024-03-14T17:51:17.146765Z"
    }
   },
   "id": "da7382f1588d47a2"
  },
  {
   "cell_type": "code",
   "execution_count": 24,
   "outputs": [
    {
     "name": "stdout",
     "output_type": "stream",
     "text": [
      "\"Here are the sequences and their distance to the desired result:\n",
      "AAABAAABABABABBABAAB: 6.520\n",
      "AAAABBBBAAAAABABABAB: 11.117\n",
      "ABABABABAAABAAABABAB: 12.175\n",
      "AABBAABBAAABABABABAA: 12.200\n",
      "BABAABABAAABAABAABAA: 13.083\n",
      "Note that only distances less than 1.0 represent good solutions. Please propose a new batch of five 20-character sequences that are closer to my target so I can evaluate them with the oracle. Remember they must be 20 characters long and should have 12 A characters.\n",
      "\"Here are the sequences and their distance to the desired result:\n",
      "AAABAAABABABBABAABAB: 5.938\n",
      "AAABAAABABABABBABAAB: 6.520\n",
      "AAABAAABBABABABBABAA: 7.239\n",
      "AAABAABABABABBABAABA: 11.096\n",
      "AABAABAAABABABBABAAB: 11.694\n",
      "AAABABAABABABBABAABA: 12.228\n",
      "Note that only distances less than 1.0 represent good solutions. Please propose a new batch of five 20-character sequences that are closer to my target so I can evaluate them with the oracle. Remember they must be 20 characters long and should have 12 A characters.\n",
      "\"Here are the sequences and their distance to the desired result:\n",
      "AAABAAABAABABBABABAB: 5.364\n",
      "AAABAAABABBABAABABAB: 5.613\n",
      "AAABAAABABABBABAABAB: 5.938\n",
      "AAABAAABABABBABABAAB: 6.504\n",
      "AAABAAABABABABBABAAB: 6.520\n",
      "AAABABAABABBABAABABA: 12.469\n",
      "AABAAABABABABBABAABA: 14.350\n",
      "Note that only distances less than 1.0 represent good solutions. Please propose a new batch of five 20-character sequences that are closer to my target so I can evaluate them with the oracle. Remember they must be 20 characters long and should have 12 A characters.\n",
      "\"Here are the sequences and their distance to the desired result:\n",
      "AAABAAABAABBABABABAB: 4.998\n",
      "AAABAAABAABABBABABAB: 5.364\n",
      "AAABAAABAABABABBABAB: 5.554\n",
      "AAABAABAAABABBABABAB: 5.825\n",
      "AAABAAABAAABABBABABA: 9.294\n",
      "AABAABAAABABABBABABA: 12.720\n",
      "Note that only distances less than 1.0 represent good solutions. Please propose a new batch of five 20-character sequences that are closer to my target so I can evaluate them with the oracle. Remember they must be 20 characters long and should have 12 A characters.\n",
      "\"Here are the sequences and their distance to the desired result:\n",
      "AAABAAABAABBABABABAB: 4.998\n",
      "AAABAAABABBAABABABAB: 5.543\n",
      "AAABAAABAABBABAABABB: 5.603\n",
      "AAABAAABABBABAABABBA: 7.165\n",
      "AAABAAABAABBABABBABA: 7.327\n",
      "AAABABAABAABABABABAB: 9.125\n",
      "Note that only distances less than 1.0 represent good solutions. Please propose a new batch of five 20-character sequences that are closer to my target so I can evaluate them with the oracle. Remember they must be 20 characters long and should have 12 A characters.\n"
     ]
    }
   ],
   "source": [
    "# create initial message\n",
    "messages = [{\"role\": \"user\", \"content\": initial_prompt}]\n",
    "\n",
    "llm_model = \"gpt-4-0125-preview\"\n",
    "# llm_model = \"gpt-4-1106-preview\"\n",
    "\n",
    "def send_openai_message(messages, client, model):\n",
    "    response = client.chat.completions.create(\n",
    "        messages=messages,\n",
    "        model=model,\n",
    "        temperature=0.,\n",
    "    )\n",
    "    return response\n",
    "\n",
    "\n",
    "n_iter = 5\n",
    "for _ in range(n_iter):\n",
    "    response = send_openai_message(messages, client, llm_model)\n",
    "    plaintext = response.choices[0].message.content\n",
    "    llm_message = {'role': 'assistant', 'content': plaintext}\n",
    "    messages.append(llm_message)\n",
    "    result = message_utils.extract_AB_substrings(plaintext)\n",
    "    these_sequences = message_utils.postproc_sequences(result)\n",
    "    prediction = model_utils.evaluate_sequences(these_sequences, target, model_ensemble)\n",
    "    next_message = {'role': 'user', 'content': batch_prompt.replace('<result>', prediction)}\n",
    "    messages.append(next_message)\n",
    "    print(next_message['content'])\n",
    "\n",
    "params = {'llm_model': llm_model,\n",
    "          'target': target.tolist(),\n",
    "          'initial_prompt': initial_prompt,\n",
    "          'batch_prompt': batch_prompt}\n",
    "buffer = {'params': params, 'messages': messages}\n",
    "\n",
    "with open(f'logs/openai-test-{time.time()}.json', 'w') as fid:\n",
    "    json.dump(buffer, fid)"
   ],
   "metadata": {
    "collapsed": false,
    "ExecuteTime": {
     "end_time": "2024-03-14T17:52:16.587860Z",
     "start_time": "2024-03-14T17:51:25.988128Z"
    }
   },
   "id": "73e5003ffeefa065"
  },
  {
   "cell_type": "code",
   "execution_count": 25,
   "outputs": [
    {
     "data": {
      "text/plain": "(0.0, 18.0)"
     },
     "execution_count": 25,
     "metadata": {},
     "output_type": "execute_result"
    },
    {
     "data": {
      "text/plain": "<Figure size 640x480 with 1 Axes>",
      "image/png": "[encoded data removed]"
     },
     "metadata": {},
     "output_type": "display_data"
    }
   ],
   "source": [
    "def make_claude_messages_from_openai(messages):\n",
    "    payload = []\n",
    "    for m in messages:\n",
    "        # message['content'][0]['text']\n",
    "        this = {'role': m['role'], 'content': [{'text': m['content']}]}\n",
    "        payload.append(this)\n",
    "    return payload\n",
    "\n",
    "fig, ax = plot_results_from_messages(make_claude_messages_from_openai(messages))\n",
    "ax.set_ylim(0, 18)"
   ],
   "metadata": {
    "collapsed": false,
    "ExecuteTime": {
     "end_time": "2024-03-14T17:52:16.697784Z",
     "start_time": "2024-03-14T17:52:16.600109Z"
    }
   },
   "id": "c040d9c00f06d73f"
  },
  {
   "cell_type": "code",
   "execution_count": null,
   "outputs": [],
   "source": [
    "# ask about the oracle\n",
    "messages.pop()\n",
    "messages.append({\"role\": \"user\", \"content\": [{\"type\": \"text\", \"text\": \"The oracle is a computer simulation. Please conjecture about the nature of the simulation.\"}]})\n",
    "response = message_utils.send_message(messages, client, llm_model)"
   ],
   "metadata": {
    "collapsed": false
   },
   "id": "f2c7cacc2e3c0a5a"
  },
  {
   "cell_type": "markdown",
   "source": [
    "# human expert sampling"
   ],
   "metadata": {
    "collapsed": false
   },
   "id": "18c78880198989b5"
  },
  {
   "cell_type": "code",
   "execution_count": null,
   "outputs": [],
   "source": [],
   "metadata": {
    "collapsed": false
   },
   "id": "7166a01f6e453b3b"
  }
 ],
 "metadata": {
  "kernelspec": {
   "display_name": "Python 3",
   "language": "python",
   "name": "python3"
  },
  "language_info": {
   "codemirror_mode": {
    "name": "ipython",
    "version": 2
   },
   "file_extension": ".py",
   "mimetype": "text/x-python",
   "name": "python",
   "nbconvert_exporter": "python",
   "pygments_lexer": "ipython2",
   "version": "2.7.6"
  }
 },
 "nbformat": 4,
 "nbformat_minor": 5
}

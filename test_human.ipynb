{
 "cells": [
  {
   "cell_type": "code",
   "execution_count": 1,
   "outputs": [],
   "source": [
    "import os\n",
    "import torch\n",
    "\n",
    "\n",
    "drive_prefix = '/Users/wfr5091/Google Drive/Shared drives/Polymers-Data'\n",
    "\n",
    "model_ensemble = []\n",
    "model_path = os.path.join(drive_prefix, 'models', 'gru-opt-cv10-sym')\n",
    "for i in range(10):\n",
    "    model = torch.jit.load(os.path.join(model_path, f'fold-{i:02d}-scripted.pt'), map_location='cpu')\n",
    "    model.eval()\n",
    "    model_ensemble.append(model)"
   ],
   "metadata": {
    "collapsed": false,
    "ExecuteTime": {
     "end_time": "2024-03-18T20:27:35.660441Z",
     "start_time": "2024-03-18T20:27:34.464930Z"
    }
   },
   "id": "5393340d82a57be1"
  },
  {
   "cell_type": "code",
   "execution_count": 1,
   "outputs": [],
   "source": [],
   "metadata": {
    "collapsed": false,
    "ExecuteTime": {
     "end_time": "2024-03-18T20:27:35.665497Z",
     "start_time": "2024-03-18T20:27:35.661350Z"
    }
   },
   "id": "29e5efcc02947872"
  },
  {
   "cell_type": "code",
   "execution_count": 2,
   "id": "initial_id",
   "metadata": {
    "collapsed": true,
    "ExecuteTime": {
     "end_time": "2024-03-18T20:27:35.667222Z",
     "start_time": "2024-03-18T20:27:35.665869Z"
    }
   },
   "outputs": [
    {
     "name": "stdout",
     "output_type": "stream",
     "text": [
      "string ; percolating, string-like aggregates ; [-4.079  6.662]\n"
     ]
    }
   ],
   "source": [
    "import numpy as np\n",
    "\n",
    "# choose a target at random\n",
    "archetype_sequences = {'liquid': 'BAABAABAABAABABBAAAB',\n",
    "                     'membrane': 'ABAAABBAAAABBABBBAAA',\n",
    "                     'spherical micelle': 'BBBBBBBBAAAAAAAAAAAA',\n",
    "                     'string': 'ABBABABAAAAABABBABAA',\n",
    "                     'vesicle': 'BABBBAABAAAABAABAABA',\n",
    "                     'wormlike micelle': 'BBAAABBBAAAABBBAAAAA',\n",
    "                     }\n",
    "archetype_targets = {'liquid': np.array([20.471924,  2.369606]),\n",
    "                     'membrane': np.array([1.214188, 9.048346]),\n",
    "                     'spherical micelle': np.array([ 2.774236, -4.223681]),\n",
    "                     'string': np.array([-4.319901,  7.762145]),\n",
    "                     'vesicle': np.array([ 6.136077, 10.73103 ]),\n",
    "                     'wormlike micelle': np.array([-4.627726,  0.183026]),\n",
    "                     }\n",
    "archetype_predictions = {'liquid': np.array([18.177, 2.932]),\n",
    "                     'membrane': np.array([1.132, 8.499]),\n",
    "                     'spherical micelle': np.array([2.901, -4.351]),\n",
    "                     'string': np.array([-4.079, 6.662]),\n",
    "                     'vesicle': np.array([6.498, 8.414]),\n",
    "                     'wormlike micelle': np.array([-3.771, 0.172]),\n",
    "                     }\n",
    "archetype_plaintext = {'spherical micelle': 'spherical micelles',\n",
    "                       'membrane': 'sheet-like membranes',\n",
    "                       'wormlike micelle': 'worm-like micelles',\n",
    "                       'liquid': 'amorphous liquid droplets',\n",
    "                       'string': 'percolating, string-like aggregates',\n",
    "                       'vesicle': 'vesicles',\n",
    "                       }\n",
    "# morph = np.random.choice(list(archetype_targets.keys()), 1)[0]\n",
    "morph = 'string'\n",
    "target = archetype_predictions[morph]\n",
    "target_description = archetype_plaintext[morph]\n",
    "print(morph, ';', target_description, ';', target)"
   ]
  },
  {
   "cell_type": "code",
   "execution_count": 3,
   "outputs": [
    {
     "name": "stdout",
     "output_type": "stream",
     "text": [
      "BAABAABAABAABABBAAAB: 18.177, 2.932\n",
      "ABAAABBAAAABBABBBAAA: 1.132, 8.499\n",
      "BBBBBBBBAAAAAAAAAAAA: 2.901, -4.351\n",
      "ABBABABAAAAABABBABAA: -4.079, 6.662\n",
      "BABBBAABAAAABAABAABA: 6.498, 8.414\n",
      "BBAAABBBAAAABBBAAAAA: -3.771, 0.172\n"
     ]
    }
   ],
   "source": [
    "# import importlib\n",
    "import model_utils\n",
    "# importlib.reload(model_utils)\n",
    "\n",
    "for k in archetype_predictions.keys():\n",
    "    print(model_utils.run_sequences([archetype_sequences[k]], model_ensemble))"
   ],
   "metadata": {
    "collapsed": false,
    "ExecuteTime": {
     "end_time": "2024-03-18T20:27:41.304234Z",
     "start_time": "2024-03-18T20:27:40.060085Z"
    }
   },
   "id": "a16c4a8c89d9395a"
  },
  {
   "cell_type": "code",
   "execution_count": 4,
   "outputs": [
    {
     "name": "stdout",
     "output_type": "stream",
     "text": [
      "generated 524800 sequences\n"
     ]
    }
   ],
   "source": [
    "# check best-case scenarios\n",
    "# generate all sequences by composition\n",
    "n = 20\n",
    "all_seq_by_frac = {k: set() for k in range(n+1)}\n",
    "limit = 2**n\n",
    "for i in range(limit):\n",
    "    sequence = bin(i)[2:].zfill(n)\n",
    "    mirror_sequence = sequence[::-1]\n",
    "    if sequence <= mirror_sequence:\n",
    "        all_seq_by_frac[sequence.count('1')].add(sequence)\n",
    "\n",
    "# create a master list of all possible sequences\n",
    "all_sequences = []\n",
    "for k, v in all_seq_by_frac.items():\n",
    "    all_sequences += v\n",
    "print(f'generated {len(all_sequences)} sequences')"
   ],
   "metadata": {
    "collapsed": false,
    "ExecuteTime": {
     "end_time": "2024-03-18T20:27:44.378768Z",
     "start_time": "2024-03-18T20:27:44.057703Z"
    }
   },
   "id": "810e7433ea77f1cc"
  },
  {
   "cell_type": "code",
   "execution_count": 5,
   "outputs": [
    {
     "name": "stdout",
     "output_type": "stream",
     "text": [
      "choosing from 63090 sequences\n"
     ]
    }
   ],
   "source": [
    "import model_utils\n",
    "\n",
    "possible_sequences = all_seq_by_frac[8]\n",
    "print(f'choosing from {len(possible_sequences)} sequences')\n",
    "\n",
    "these_sequences = [it.replace('0', 'A').replace('1', 'B') for it in possible_sequences]    \n",
    "out = model_utils.evaluate_sequences(these_sequences, target, model_ensemble)"
   ],
   "metadata": {
    "collapsed": false,
    "ExecuteTime": {
     "end_time": "2024-03-18T20:28:01.808613Z",
     "start_time": "2024-03-18T20:27:45.845630Z"
    }
   },
   "id": "ec261ac43044521"
  },
  {
   "cell_type": "code",
   "execution_count": 79,
   "outputs": [
    {
     "name": "stdout",
     "output_type": "stream",
     "text": [
      "False\n",
      "True\n"
     ]
    }
   ],
   "source": [
    "s = 'ABBABABAAAAABABBABAA'.replace('A', '0').replace('B', '1')\n",
    "print(s in possible_sequences)\n",
    "print(s[::-1] in possible_sequences)"
   ],
   "metadata": {
    "collapsed": false,
    "ExecuteTime": {
     "end_time": "2024-03-11T16:01:22.778184Z",
     "start_time": "2024-03-11T16:01:22.768645Z"
    }
   },
   "id": "16f0dc67aff0f9b9"
  },
  {
   "cell_type": "code",
   "execution_count": 81,
   "outputs": [
    {
     "data": {
      "text/plain": "['AABABBABAAAAABABABBA: 0.000',\n 'AAABBABABAAAAABBBABA: 0.025',\n 'AAABBABBAAAAABABAABB: 0.038',\n 'AAABBBABAAAAABBAABAB: 0.054',\n 'AABBAABBAAAAABABBAAB: 0.073',\n 'AAABABBBAAAAABBAABAB: 0.094',\n 'AAABBABABAAAABBBAAAB: 0.102',\n 'AAABBBABAAAAABBABAAB: 0.127',\n 'AAABABBBAAAAABBABAAB: 0.132',\n 'AAABBABBAAAAABAABBAB: 0.152',\n 'AAABBABABAAAAABABBBA: 0.165',\n 'AABBABABAAAAABABABBA: 0.177',\n 'AAABBABABAAAABBABBAA: 0.180',\n 'AABABABBAAAAABABBAAB: 0.181',\n 'AAABBABBAAAABBABBAAA: 0.183',\n 'AAABABBABAAAAABBBABA: 0.188',\n 'AAABABBBAAAAABABBAAB: 0.197',\n 'AABBAABBAAAAABBABAAB: 0.207',\n 'AABBABABAAAAABBAABBA: 0.216',\n 'AAABABBBAAAAABABABAB: 0.218',\n 'AAABBBABAAAAABABBAAB: 0.220',\n 'AAABBABABAAAABAABBAB: 0.242',\n 'AABBAABBAAAAABBAABAB: 0.243',\n 'AAABABBABAAAABBBAAAB: 0.245',\n 'AAABBABBAAAAABBBAAAB: 0.245']"
     },
     "execution_count": 81,
     "metadata": {},
     "output_type": "execute_result"
    }
   ],
   "source": [
    "# [it.split(':')[1].strip() for it in out.split('\\n')[:25]]\n",
    "[it for it in out.split('\\n')[:25]]"
   ],
   "metadata": {
    "collapsed": false,
    "ExecuteTime": {
     "end_time": "2024-03-11T16:02:26.785361Z",
     "start_time": "2024-03-11T16:02:26.781356Z"
    }
   },
   "id": "fca46290eabddf15"
  },
  {
   "cell_type": "code",
   "execution_count": 52,
   "outputs": [
    {
     "name": "stdout",
     "output_type": "stream",
     "text": [
      "[-4.078578  6.661681]\n"
     ]
    }
   ],
   "source": [
    "AB = {'A': 0, 'B': 1}\n",
    "int_seq = np.array([[int(AB[x]) for x in s] for s in ['ABBABABAAAAABABBABAA']])\n",
    "\n",
    "predictions = []\n",
    "for model in model_ensemble:\n",
    "    out = model_utils.predict_from_model(model, int_seq)\n",
    "    predictions.append(out)\n",
    "z_pred = np.array(predictions).mean(axis=0)\n",
    "target = z_pred[0]\n",
    "print(target)"
   ],
   "metadata": {
    "collapsed": false,
    "ExecuteTime": {
     "end_time": "2024-03-11T15:57:28.964823Z",
     "start_time": "2024-03-11T15:57:28.892433Z"
    }
   },
   "id": "d424497cb8ec61f0"
  },
  {
   "cell_type": "code",
   "execution_count": 12,
   "outputs": [
    {
     "name": "stdout",
     "output_type": "stream",
     "text": [
      "AAAABBBAAABBAAABBBAA: 5.471\n",
      "BBAABBAAAABBAAABBAAA: 6.823\n",
      "BAAABBAAAAABBAAABBBB: 12.082\n",
      "BBBAABAABAABAABAABAA: 14.911\n",
      "AABABABBAAABAABBAABA: 17.176\n"
     ]
    }
   ],
   "source": [
    "import message_utils, model_utils\n",
    "\n",
    "# ask for inputs (batch 1)\n",
    "response = \"\"\"\n",
    "AAAABBBAAABBAAABBBAA\n",
    "BAAABBAAAAABBAAABBBB\n",
    "BBAABBAAAABBAAABBAAA\n",
    "BBBAABAABAABAABAABAA\n",
    "AABABABBAAABAABBAABA\n",
    "\"\"\"\n",
    "\n",
    "# generate outputs\n",
    "these_sequences = message_utils.extract_AB_substrings(response)\n",
    "outcome = model_utils.evaluate_sequences(these_sequences, target, model_ensemble)\n",
    "print(outcome)"
   ],
   "metadata": {
    "collapsed": false,
    "ExecuteTime": {
     "end_time": "2024-03-08T18:33:33.253825Z",
     "start_time": "2024-03-08T18:33:33.076443Z"
    }
   },
   "id": "c84e757c7ecf5013"
  },
  {
   "cell_type": "code",
   "execution_count": 13,
   "outputs": [
    {
     "name": "stdout",
     "output_type": "stream",
     "text": [
      "AAAABBBAAABBABAABBAA: 5.607\n",
      "AAAABABABABBAAABBBAA: 6.194\n",
      "AAABABBAAABBAAABBBAA: 8.339\n",
      "BAAABABABABBAAABABAA: 18.484\n",
      "ABAABABABABAABABABAA: 23.832\n"
     ]
    }
   ],
   "source": [
    "# ask for inputs (batch 2)\n",
    "response = \"\"\"\n",
    "AAABABBAAABBAAABBBAA\n",
    "AAAABBBAAABBABAABBAA\n",
    "AAAABABABABBAAABBBAA\n",
    "BAAABABABABBAAABABAA\n",
    "ABAABABABABAABABABAA\n",
    "\"\"\"\n",
    "\n",
    "# generate outputs\n",
    "these_sequences = message_utils.extract_AB_substrings(response)\n",
    "outcome = model_utils.evaluate_sequences(these_sequences, target, model_ensemble)\n",
    "print(outcome)"
   ],
   "metadata": {
    "collapsed": false,
    "ExecuteTime": {
     "end_time": "2024-03-08T18:36:58.798302Z",
     "start_time": "2024-03-08T18:36:58.687927Z"
    }
   },
   "id": "8dc372aaa6a8e8cd"
  },
  {
   "cell_type": "code",
   "execution_count": 14,
   "outputs": [
    {
     "name": "stdout",
     "output_type": "stream",
     "text": [
      "AAABABBAAABAAABBAABB: 8.363\n",
      "BAABABBAAABBAAAABBAA: 8.727\n",
      "AAABABBAABABBAABBAAB: 10.634\n",
      "BAABABAABBAAABBAAAAB: 17.967\n",
      "BAABBAABAABBAABAABBA: 23.106\n"
     ]
    }
   ],
   "source": [
    "# ask for inputs (batch 3)\n",
    "response = \"\"\"\n",
    "BAABABBAAABBAAAABBAA\n",
    "AAABABBAAABAAABBAABB\n",
    "AAABABBAABABBAABBAAB\n",
    "BAABBAABAABBAABAABBA\n",
    "BAABABAABBAAABBAAAAB\n",
    "\"\"\"\n",
    "\n",
    "# generate outputs\n",
    "these_sequences = message_utils.extract_AB_substrings(response)\n",
    "outcome = model_utils.evaluate_sequences(these_sequences, target, model_ensemble)\n",
    "print(outcome)"
   ],
   "metadata": {
    "collapsed": false,
    "ExecuteTime": {
     "end_time": "2024-03-08T18:39:30.473494Z",
     "start_time": "2024-03-08T18:39:30.378661Z"
    }
   },
   "id": "8cdb428d63a8d3de"
  },
  {
   "cell_type": "code",
   "execution_count": 15,
   "outputs": [
    {
     "name": "stdout",
     "output_type": "stream",
     "text": [
      "BBBAAAABBAAABBBAAAAA: 2.764\n",
      "BBBBAAAAAAABBBBAAAAA: 3.195\n",
      "AAABBBAAAABBAAABBBAA: 8.745\n",
      "ABBAABBAABBAAAAABBAA: 9.307\n",
      "BBAAAABBAAABBAAAAABB: 16.073\n"
     ]
    }
   ],
   "source": [
    "# ask for inputs (batch 4)\n",
    "response = \"\"\"\n",
    "AAABBBAAAABBAAABBBAA\n",
    "BBBAAAABBAAABBBAAAAA\n",
    "ABBAABBAABBAAAAABBAA\n",
    "BBAAAABBAAABBAAAAABB\n",
    "BBBBAAAAAAABBBBAAAAA\n",
    "\"\"\"\n",
    "\n",
    "# generate outputs\n",
    "these_sequences = message_utils.extract_AB_substrings(response)\n",
    "outcome = model_utils.evaluate_sequences(these_sequences, target, model_ensemble)\n",
    "print(outcome)"
   ],
   "metadata": {
    "collapsed": false,
    "ExecuteTime": {
     "end_time": "2024-03-08T18:42:35.400730Z",
     "start_time": "2024-03-08T18:42:35.307506Z"
    }
   },
   "id": "1f09031a69ade3be"
  },
  {
   "cell_type": "code",
   "execution_count": 16,
   "outputs": [
    {
     "name": "stdout",
     "output_type": "stream",
     "text": [
      "ABBBAAABBAAAABBBAAAA: 4.396\n",
      "BBBAAABBBAAABBAAAAAA: 4.996\n",
      "AAABBBAAABBBAAABBAAA: 9.317\n",
      "AABBBAAABBBAAAABBAAA: 10.083\n",
      "BBAAAAAABBBBAAAAAABB: 19.276\n"
     ]
    }
   ],
   "source": [
    "# ask for inputs (batch 5)\n",
    "response = \"\"\"\n",
    "BBBAAABBBAAABBAAAAAA\n",
    "BBAAAAAABBBBAAAAAABB\n",
    "AAABBBAAABBBAAABBAAA\n",
    "ABBBAAABBAAAABBBAAAA\n",
    "AABBBAAABBBAAAABBAAA\n",
    "\"\"\"\n",
    "\n",
    "# generate outputs\n",
    "these_sequences = message_utils.extract_AB_substrings(response)\n",
    "outcome = model_utils.evaluate_sequences(these_sequences, target, model_ensemble)\n",
    "print(outcome)"
   ],
   "metadata": {
    "collapsed": false,
    "ExecuteTime": {
     "end_time": "2024-03-08T18:48:04.804023Z",
     "start_time": "2024-03-08T18:48:04.708740Z"
    }
   },
   "id": "9f9d88b08189358a"
  },
  {
   "cell_type": "code",
   "execution_count": 17,
   "outputs": [
    {
     "name": "stdout",
     "output_type": "stream",
     "text": [
      "AAABBBAAAABBAABBBAAA: 6.517\n",
      "AAABABBAAABBAAABBBAA: 8.339\n",
      "AAABBBAAABBAAAABBBAA: 9.547\n",
      "AAABBBAAAABBAAAABBBA: 9.727\n",
      "AABBABAAAABBAAABBBAA: 10.204\n"
     ]
    }
   ],
   "source": [
    "# ask for inputs (batch 6)\n",
    "response = \"\"\"\n",
    "AAABBBAAAABBAAAABBBA\n",
    "AAABBBAAAABBAABBBAAA\n",
    "AABBABAAAABBAAABBBAA\n",
    "AAABBBAAABBAAAABBBAA\n",
    "AAABABBAAABBAAABBBAA\n",
    "\"\"\"\n",
    "\n",
    "# generate outputs\n",
    "these_sequences = message_utils.extract_AB_substrings(response)\n",
    "outcome = model_utils.evaluate_sequences(these_sequences, target, model_ensemble)\n",
    "print(outcome)"
   ],
   "metadata": {
    "collapsed": false,
    "ExecuteTime": {
     "end_time": "2024-03-08T18:48:40.433188Z",
     "start_time": "2024-03-08T18:48:40.341788Z"
    }
   },
   "id": "9064d9367d7a2c4a"
  },
  {
   "cell_type": "code",
   "execution_count": 28,
   "outputs": [
    {
     "name": "stdout",
     "output_type": "stream",
     "text": [
      "ABBBAAAABBAAABBBAAAA: 5.322\n",
      "AAABBBAAAABBAAABBBAA: 8.745\n",
      "AAABBBAAAABBAAABBBAA: 8.745\n",
      "AABBBAAAABBAAABBBAAA: 9.547\n",
      "AABBBAAAABBAAABBBAAA: 9.547\n"
     ]
    }
   ],
   "source": [
    "# ask for inputs (batch 7)\n",
    "response = \"\"\"\n",
    "AAABBBAAAABBAAABBBAA\n",
    "AABBBAAAABBAAABBBAAA\n",
    "ABBBAAAABBAAABBBAAAA\n",
    "AABBBAAAABBAAABBBAAA\n",
    "AAABBBAAAABBAAABBBAA\n",
    "\"\"\"\n",
    "\n",
    "# generate outputs\n",
    "these_sequences = message_utils.extract_AB_substrings(response)\n",
    "outcome = model_utils.evaluate_sequences(these_sequences, target, model_ensemble)\n",
    "print(outcome)"
   ],
   "metadata": {
    "collapsed": false,
    "ExecuteTime": {
     "end_time": "2024-03-08T22:18:23.019228Z",
     "start_time": "2024-03-08T22:18:22.927689Z"
    }
   },
   "id": "eb68695993f61f9c"
  },
  {
   "cell_type": "code",
   "execution_count": null,
   "outputs": [],
   "source": [
    "# ask for inputs (batch 8)\n",
    "response = \"\"\"\n",
    "AAABBBAAAABBAAABBBAA\n",
    "AABBBAAAABBAAABBBAAA\n",
    "ABBBAAAABBAAABBBAAAA\n",
    "AABBBAAAABBAAABBBAAA\n",
    "AAABBBAAAABBAAABBBAA\n",
    "\"\"\"\n",
    "\n",
    "# generate outputs\n",
    "these_sequences = message_utils.extract_AB_substrings(response)\n",
    "outcome = model_utils.evaluate_sequences(these_sequences, target, model_ensemble)\n",
    "print(outcome)"
   ],
   "metadata": {
    "collapsed": false
   },
   "id": "c5159c5c6fc3d802"
  },
  {
   "cell_type": "markdown",
   "source": [
    "# for strings"
   ],
   "metadata": {
    "collapsed": false
   },
   "id": "6ba73046046a0a8c"
  },
  {
   "cell_type": "code",
   "execution_count": 45,
   "outputs": [
    {
     "name": "stdout",
     "output_type": "stream",
     "text": [
      "BBAABBAAAABBAAABBAAA: 2.819\n",
      "AAAABBBAAABBAAABBBAA: 5.672\n",
      "BBBAABAABAABAABAABAA: 12.778\n",
      "BAAABBAAAAABBAAABBBB: 12.982\n",
      "AABABABBAAABAABBAABA: 15.278\n"
     ]
    }
   ],
   "source": [
    "import message_utils, model_utils\n",
    "\n",
    "# ask for inputs (batch 1)\n",
    "response = \"\"\"\n",
    "AAAABBBAAABBAAABBBAA\n",
    "BAAABBAAAAABBAAABBBB\n",
    "BBAABBAAAABBAAABBAAA\n",
    "BBBAABAABAABAABAABAA\n",
    "AABABABBAAABAABBAABA\n",
    "\"\"\"\n",
    "\n",
    "# generate outputs\n",
    "these_sequences = message_utils.extract_AB_substrings(response)\n",
    "outcome = model_utils.evaluate_sequences(these_sequences, target, model_ensemble)\n",
    "print(outcome)"
   ],
   "metadata": {
    "collapsed": false,
    "ExecuteTime": {
     "end_time": "2024-03-11T15:54:00.874679Z",
     "start_time": "2024-03-11T15:54:00.789180Z"
    }
   },
   "id": "afa133c86d3a0ee7"
  },
  {
   "cell_type": "code",
   "execution_count": 46,
   "outputs": [
    {
     "name": "stdout",
     "output_type": "stream",
     "text": [
      "AAAABBBAAABBAAABBBAA: 5.672\n",
      "AAABBBAAAABBAAABBBAA: 6.013\n",
      "AAAABBBAAABBBAABBBAA: 6.523\n",
      "AAAABBBAABBBAAABBBAA: 7.037\n",
      "AAAABBBAABBBAAABBAAA: 8.873\n"
     ]
    }
   ],
   "source": [
    "# ask for inputs (batch 1)\n",
    "response = \"\"\"\n",
    "AAAABBBAAABBAAABBBAA\n",
    "AAAABBBAABBBAAABBBAA\n",
    "AAAABBBAAABBBAABBBAA\n",
    "AAAABBBAABBBAAABBAAA\n",
    "AAABBBAAAABBAAABBBAA\n",
    "\"\"\"\n",
    "\n",
    "# generate outputs\n",
    "these_sequences = message_utils.extract_AB_substrings(response)\n",
    "outcome = model_utils.evaluate_sequences(these_sequences, target, model_ensemble)\n",
    "print(outcome)"
   ],
   "metadata": {
    "collapsed": false,
    "ExecuteTime": {
     "end_time": "2024-03-11T15:54:50.557704Z",
     "start_time": "2024-03-11T15:54:50.458951Z"
    }
   },
   "id": "a4aacd5d3aa6dc02"
  },
  {
   "cell_type": "code",
   "execution_count": 82,
   "outputs": [
    {
     "name": "stdout",
     "output_type": "stream",
     "text": [
      "AABABBABAAAAABABABBA: 0.000\n",
      "AAABBBABAAAAABABABBA: 0.387\n",
      "AABABBABAAAAABAABBBA: 0.523\n",
      "AABABBBAAAAAABABABBA: 0.679\n",
      "AABABBABAAAAAABBABBA: 1.019\n"
     ]
    }
   ],
   "source": [
    "# ask for inputs (batch 1)\n",
    "response = \"\"\"\n",
    "AABABBABAAAAABABABBA\n",
    "AAABBBABAAAAABABABBA\n",
    "AABABBABAAAAAABBABBA\n",
    "AABABBABAAAAABAABBBA\n",
    "AABABBBAAAAAABABABBA\n",
    "\"\"\"\n",
    "\n",
    "# generate outputs\n",
    "these_sequences = message_utils.extract_AB_substrings(response)\n",
    "outcome = model_utils.evaluate_sequences(these_sequences, target, model_ensemble)\n",
    "print(outcome)"
   ],
   "metadata": {
    "collapsed": false,
    "ExecuteTime": {
     "end_time": "2024-03-11T16:03:12.147577Z",
     "start_time": "2024-03-11T16:03:12.056747Z"
    }
   },
   "id": "38ad2a22161d7ac7"
  },
  {
   "cell_type": "code",
   "execution_count": null,
   "outputs": [],
   "source": [],
   "metadata": {
    "collapsed": false
   },
   "id": "b8f295bb9e2b78a4"
  }
 ],
 "metadata": {
  "kernelspec": {
   "display_name": "Python 3",
   "language": "python",
   "name": "python3"
  },
  "language_info": {
   "codemirror_mode": {
    "name": "ipython",
    "version": 2
   },
   "file_extension": ".py",
   "mimetype": "text/x-python",
   "name": "python",
   "nbconvert_exporter": "python",
   "pygments_lexer": "ipython2",
   "version": "2.7.6"
  }
 },
 "nbformat": 4,
 "nbformat_minor": 5
}
